{
  "cells": [
    {
      "cell_type": "code",
      "execution_count": 2,
      "metadata": {
        "colab": {
          "base_uri": "https://localhost:8080/"
        },
        "id": "32JWaNAbJQrD",
        "outputId": "9b28bb50-4a0d-4399-b789-742b559b0ede"
      },
      "outputs": [
        {
          "name": "stdout",
          "output_type": "stream",
          "text": [
            "\u001b[2K     \u001b[90m━━━━━━━━━━━━━━━━━━━━━━━━━━━━━━━━━━━━━━━\u001b[0m \u001b[32m519.3/519.3 kB\u001b[0m \u001b[31m6.3 MB/s\u001b[0m eta \u001b[36m0:00:00\u001b[0m\n",
            "\u001b[2K     \u001b[90m━━━━━━━━━━━━━━━━━━━━━━━━━━━━━━━━━━━━━━━\u001b[0m \u001b[32m115.3/115.3 kB\u001b[0m \u001b[31m7.6 MB/s\u001b[0m eta \u001b[36m0:00:00\u001b[0m\n",
            "\u001b[2K     \u001b[90m━━━━━━━━━━━━━━━━━━━━━━━━━━━━━━━━━━━━━━\u001b[0m \u001b[32m194.1/194.1 kB\u001b[0m \u001b[31m11.3 MB/s\u001b[0m eta \u001b[36m0:00:00\u001b[0m\n",
            "\u001b[2K     \u001b[90m━━━━━━━━━━━━━━━━━━━━━━━━━━━━━━━━━━━━━━━\u001b[0m \u001b[32m134.8/134.8 kB\u001b[0m \u001b[31m8.4 MB/s\u001b[0m eta \u001b[36m0:00:00\u001b[0m\n",
            "\u001b[?25h"
          ]
        }
      ],
      "source": [
        "!pip install transformers ekphrasis datasets -q"
      ]
    },
    {
      "cell_type": "code",
      "execution_count": 1,
      "metadata": {
        "id": "mNy5mO2zIolp"
      },
      "outputs": [],
      "source": [
        "import re\n",
        "import string\n",
        "import nltk\n",
        "import pandas as pd\n",
        "import warnings\n",
        "import mlflow\n",
        "import contractions\n",
        "import unidecode\n",
        "\n",
        "from mlflow.entities import ViewType\n",
        "from mlflow.tracking import MlflowClient\n",
        "\n",
        "# from ekphrasis.classes.preprocessor import TextPreProcessor\n",
        "# from ekphrasis.classes.tokenizer import SocialTokenizer\n",
        "# from ekphrasis.dicts.emoticons import emoticons\n",
        "\n",
        "from xgboost import XGBClassifier\n",
        "from sklearn.feature_extraction.text import TfidfVectorizer\n",
        "from sklearn.model_selection import StratifiedKFold, cross_val_score, RandomizedSearchCV\n",
        "from sklearn.linear_model import LogisticRegression\n",
        "from sklearn.svm import SVC\n",
        "from sklearn.ensemble import RandomForestClassifier\n",
        "from sklearn.naive_bayes import MultinomialNB\n",
        "from sklearn.metrics import accuracy_score, precision_score, recall_score, f1_score, confusion_matrix\n",
        "from sklearn.pipeline import Pipeline\n",
        "from sklearn.base import BaseEstimator, TransformerMixin\n",
        "\n",
        "pd.options.display.max_colwidth = None\n",
        "pd.options.display.max_rows = None\n",
        "warnings.filterwarnings('ignore')"
      ]
    },
    {
      "cell_type": "code",
      "execution_count": 38,
      "metadata": {
        "id": "a5qxFIeXIolq"
      },
      "outputs": [],
      "source": [
        "train = pd.read_csv(\"../data/raw/train.csv\")\n",
        "test = pd.read_csv(\"../data/raw/test.csv\")"
      ]
    },
    {
      "cell_type": "code",
      "execution_count": 39,
      "metadata": {
        "colab": {
          "base_uri": "https://localhost:8080/"
        },
        "id": "niDgDExYIolr",
        "outputId": "2e5b3935-8c42-4c7d-becf-04a27648dcbb"
      },
      "outputs": [
        {
          "name": "stdout",
          "output_type": "stream",
          "text": [
            "(7613, 5)\n",
            "(3263, 4)\n"
          ]
        }
      ],
      "source": [
        "print(train.shape)\n",
        "print(test.shape)"
      ]
    },
    {
      "cell_type": "code",
      "execution_count": 18,
      "metadata": {},
      "outputs": [],
      "source": [
        "TRACKING_SERVER_HOST = \"127.0.0.1\"\n",
        "mlflow.set_tracking_uri(f\"http://{TRACKING_SERVER_HOST}:5000\")"
      ]
    },
    {
      "cell_type": "markdown",
      "metadata": {
        "id": "ggGvASxoIolr"
      },
      "source": [
        "## Preprocess Text"
      ]
    },
    {
      "cell_type": "code",
      "execution_count": 5,
      "metadata": {
        "colab": {
          "base_uri": "https://localhost:8080/",
          "height": 268
        },
        "id": "EmM9cP8hIolt",
        "outputId": "65629c4f-8474-40ff-8e90-6162f8921ac2"
      },
      "outputs": [
        {
          "data": {
            "text/html": [
              "<div>\n",
              "<style scoped>\n",
              "    .dataframe tbody tr th:only-of-type {\n",
              "        vertical-align: middle;\n",
              "    }\n",
              "\n",
              "    .dataframe tbody tr th {\n",
              "        vertical-align: top;\n",
              "    }\n",
              "\n",
              "    .dataframe thead th {\n",
              "        text-align: right;\n",
              "    }\n",
              "</style>\n",
              "<table border=\"1\" class=\"dataframe\">\n",
              "  <thead>\n",
              "    <tr style=\"text-align: right;\">\n",
              "      <th></th>\n",
              "      <th>id</th>\n",
              "      <th>keyword</th>\n",
              "      <th>location</th>\n",
              "      <th>text</th>\n",
              "      <th>target</th>\n",
              "    </tr>\n",
              "  </thead>\n",
              "  <tbody>\n",
              "    <tr>\n",
              "      <th>0</th>\n",
              "      <td>1</td>\n",
              "      <td>NaN</td>\n",
              "      <td>NaN</td>\n",
              "      <td>Our Deeds are the Reason of this #earthquake May ALLAH Forgive us all</td>\n",
              "      <td>1</td>\n",
              "    </tr>\n",
              "    <tr>\n",
              "      <th>1</th>\n",
              "      <td>4</td>\n",
              "      <td>NaN</td>\n",
              "      <td>NaN</td>\n",
              "      <td>Forest fire near La Ronge Sask. Canada</td>\n",
              "      <td>1</td>\n",
              "    </tr>\n",
              "    <tr>\n",
              "      <th>2</th>\n",
              "      <td>5</td>\n",
              "      <td>NaN</td>\n",
              "      <td>NaN</td>\n",
              "      <td>All residents asked to 'shelter in place' are being notified by officers. No other evacuation or shelter in place orders are expected</td>\n",
              "      <td>1</td>\n",
              "    </tr>\n",
              "    <tr>\n",
              "      <th>3</th>\n",
              "      <td>6</td>\n",
              "      <td>NaN</td>\n",
              "      <td>NaN</td>\n",
              "      <td>13,000 people receive #wildfires evacuation orders in California</td>\n",
              "      <td>1</td>\n",
              "    </tr>\n",
              "    <tr>\n",
              "      <th>4</th>\n",
              "      <td>7</td>\n",
              "      <td>NaN</td>\n",
              "      <td>NaN</td>\n",
              "      <td>Just got sent this photo from Ruby #Alaska as smoke from #wildfires pours into a school</td>\n",
              "      <td>1</td>\n",
              "    </tr>\n",
              "  </tbody>\n",
              "</table>\n",
              "</div>"
            ],
            "text/plain": [
              "   id keyword location  \\\n",
              "0   1     NaN      NaN   \n",
              "1   4     NaN      NaN   \n",
              "2   5     NaN      NaN   \n",
              "3   6     NaN      NaN   \n",
              "4   7     NaN      NaN   \n",
              "\n",
              "                                                                                                                                    text  \\\n",
              "0                                                                  Our Deeds are the Reason of this #earthquake May ALLAH Forgive us all   \n",
              "1                                                                                                 Forest fire near La Ronge Sask. Canada   \n",
              "2  All residents asked to 'shelter in place' are being notified by officers. No other evacuation or shelter in place orders are expected   \n",
              "3                                                                      13,000 people receive #wildfires evacuation orders in California    \n",
              "4                                               Just got sent this photo from Ruby #Alaska as smoke from #wildfires pours into a school    \n",
              "\n",
              "   target  \n",
              "0       1  \n",
              "1       1  \n",
              "2       1  \n",
              "3       1  \n",
              "4       1  "
            ]
          },
          "execution_count": 5,
          "metadata": {},
          "output_type": "execute_result"
        }
      ],
      "source": [
        "train.head()"
      ]
    },
    {
      "cell_type": "markdown",
      "metadata": {
        "id": "tKPeaCD_Iolt"
      },
      "source": [
        "Going over the dataset we find:\n",
        "\n",
        "- The text contains punctuations, hashtags, numeric figures, mentions, URLs, Dates, Accented Characters, Contractions\n",
        "- Text also contains characters like `&gt`, `&amp`, `\\n`.\n",
        "- We'll also find duplicated tweets, however there are some discrepancies between the duplicated tweets. For the same tweet we have different labels."
      ]
    },
    {
      "cell_type": "code",
      "execution_count": 40,
      "metadata": {
        "colab": {
          "base_uri": "https://localhost:8080/",
          "height": 337
        },
        "id": "0L0Cf4cnIolt",
        "outputId": "47b88f2c-ab12-4276-9d0d-93609c0c78eb"
      },
      "outputs": [
        {
          "data": {
            "text/html": [
              "<div>\n",
              "<style scoped>\n",
              "    .dataframe tbody tr th:only-of-type {\n",
              "        vertical-align: middle;\n",
              "    }\n",
              "\n",
              "    .dataframe tbody tr th {\n",
              "        vertical-align: top;\n",
              "    }\n",
              "\n",
              "    .dataframe thead th {\n",
              "        text-align: right;\n",
              "    }\n",
              "</style>\n",
              "<table border=\"1\" class=\"dataframe\">\n",
              "  <thead>\n",
              "    <tr style=\"text-align: right;\">\n",
              "      <th></th>\n",
              "      <th>id</th>\n",
              "      <th>keyword</th>\n",
              "      <th>location</th>\n",
              "      <th>text</th>\n",
              "      <th>target</th>\n",
              "    </tr>\n",
              "  </thead>\n",
              "  <tbody>\n",
              "    <tr>\n",
              "      <th>4290</th>\n",
              "      <td>6094</td>\n",
              "      <td>hellfire</td>\n",
              "      <td>Jubail IC, Saudi Arabia.</td>\n",
              "      <td>#Allah describes piling up #wealth thinking it would last #forever as the description of the people of #Hellfire in Surah Humaza. #Reflect</td>\n",
              "      <td>0</td>\n",
              "    </tr>\n",
              "    <tr>\n",
              "      <th>4299</th>\n",
              "      <td>6105</td>\n",
              "      <td>hellfire</td>\n",
              "      <td>?????? ??? ?????? ????????</td>\n",
              "      <td>#Allah describes piling up #wealth thinking it would last #forever as the description of the people of #Hellfire in Surah Humaza. #Reflect</td>\n",
              "      <td>0</td>\n",
              "    </tr>\n",
              "    <tr>\n",
              "      <th>4312</th>\n",
              "      <td>6123</td>\n",
              "      <td>hellfire</td>\n",
              "      <td>?????? ???? ??????</td>\n",
              "      <td>#Allah describes piling up #wealth thinking it would last #forever as the description of the people of #Hellfire in Surah Humaza. #Reflect</td>\n",
              "      <td>1</td>\n",
              "    </tr>\n",
              "    <tr>\n",
              "      <th>6363</th>\n",
              "      <td>9095</td>\n",
              "      <td>suicide%20bomb</td>\n",
              "      <td>Nigeria</td>\n",
              "      <td>#Bestnaijamade: 16yr old PKK suicide bomber who detonated bomb in ... http://t.co/KSAwlYuX02 bestnaijamade bestnaijamade bestnaijamade beÛ_</td>\n",
              "      <td>1</td>\n",
              "    </tr>\n",
              "    <tr>\n",
              "      <th>6373</th>\n",
              "      <td>9107</td>\n",
              "      <td>suicide%20bomb</td>\n",
              "      <td>Nigeria</td>\n",
              "      <td>#Bestnaijamade: 16yr old PKK suicide bomber who detonated bomb in ... http://t.co/KSAwlYuX02 bestnaijamade bestnaijamade bestnaijamade beÛ_</td>\n",
              "      <td>1</td>\n",
              "    </tr>\n",
              "  </tbody>\n",
              "</table>\n",
              "</div>"
            ],
            "text/plain": [
              "        id         keyword                    location  \\\n",
              "4290  6094        hellfire    Jubail IC, Saudi Arabia.   \n",
              "4299  6105        hellfire  ?????? ??? ?????? ????????   \n",
              "4312  6123        hellfire          ?????? ???? ??????   \n",
              "6363  9095  suicide%20bomb                     Nigeria   \n",
              "6373  9107  suicide%20bomb                     Nigeria   \n",
              "\n",
              "                                                                                                                                              text  \\\n",
              "4290    #Allah describes piling up #wealth thinking it would last #forever as the description of the people of #Hellfire in Surah Humaza. #Reflect   \n",
              "4299    #Allah describes piling up #wealth thinking it would last #forever as the description of the people of #Hellfire in Surah Humaza. #Reflect   \n",
              "4312    #Allah describes piling up #wealth thinking it would last #forever as the description of the people of #Hellfire in Surah Humaza. #Reflect   \n",
              "6363  #Bestnaijamade: 16yr old PKK suicide bomber who detonated bomb in ... http://t.co/KSAwlYuX02 bestnaijamade bestnaijamade bestnaijamade beÛ_   \n",
              "6373  #Bestnaijamade: 16yr old PKK suicide bomber who detonated bomb in ... http://t.co/KSAwlYuX02 bestnaijamade bestnaijamade bestnaijamade beÛ_   \n",
              "\n",
              "      target  \n",
              "4290       0  \n",
              "4299       0  \n",
              "4312       1  \n",
              "6363       1  \n",
              "6373       1  "
            ]
          },
          "execution_count": 40,
          "metadata": {},
          "output_type": "execute_result"
        }
      ],
      "source": [
        "# Duplicated tweets (Expand to see more)\n",
        "train[train.text.duplicated(keep=False)].sort_values(by='text').head()"
      ]
    },
    {
      "cell_type": "markdown",
      "metadata": {
        "id": "3c22FEaCIolt"
      },
      "source": [
        "Let's start by cleaning up the text.\n",
        "\n",
        "### Clearning up the text"
      ]
    },
    {
      "cell_type": "code",
      "execution_count": 41,
      "metadata": {
        "id": "4cmhe-x0Iolt"
      },
      "outputs": [],
      "source": [
        "# Drop the duplicates from the dataframe\n",
        "train = train.drop_duplicates(subset=['text', 'target']).reset_index(drop=True)\n",
        "\n",
        "# After manually going through the tweets with different target values\n",
        "# Assign the target values to the tweets to find the duplicates\n",
        "non_disaster =  [4253, 4182, 3212, 4249, 6535, 1190, 4239, 3936, 1214, 6018]\n",
        "disaster = [4193, 2803, 4554, 4250, 1207, 4317, 620, 5573]\n",
        "train.loc[non_disaster, 'target'] = 0\n",
        "train.loc[disaster, 'target'] = 1\n",
        "\n",
        "# Again drop the duplicates from the dataframe\n",
        "train = train.drop_duplicates(subset=['text', 'target']).reset_index(drop=True)"
      ]
    },
    {
      "cell_type": "code",
      "execution_count": 42,
      "metadata": {},
      "outputs": [
        {
          "data": {
            "text/html": [
              "<div>\n",
              "<style scoped>\n",
              "    .dataframe tbody tr th:only-of-type {\n",
              "        vertical-align: middle;\n",
              "    }\n",
              "\n",
              "    .dataframe tbody tr th {\n",
              "        vertical-align: top;\n",
              "    }\n",
              "\n",
              "    .dataframe thead th {\n",
              "        text-align: right;\n",
              "    }\n",
              "</style>\n",
              "<table border=\"1\" class=\"dataframe\">\n",
              "  <thead>\n",
              "    <tr style=\"text-align: right;\">\n",
              "      <th></th>\n",
              "      <th>id</th>\n",
              "      <th>keyword</th>\n",
              "      <th>location</th>\n",
              "      <th>text</th>\n",
              "      <th>target</th>\n",
              "    </tr>\n",
              "  </thead>\n",
              "  <tbody>\n",
              "  </tbody>\n",
              "</table>\n",
              "</div>"
            ],
            "text/plain": [
              "Empty DataFrame\n",
              "Columns: [id, keyword, location, text, target]\n",
              "Index: []"
            ]
          },
          "execution_count": 42,
          "metadata": {},
          "output_type": "execute_result"
        }
      ],
      "source": [
        "# Check if any duplicated tweets left\n",
        "train[train.text.duplicated(keep=False)].sort_values(by='text').head()"
      ]
    },
    {
      "cell_type": "code",
      "execution_count": 43,
      "metadata": {},
      "outputs": [],
      "source": [
        "EMOTICONS = {\n",
        "    u\":‑\\)\": \"Happy face or smiley\",\n",
        "    u\":\\)\": \"Happy face or smiley\",\n",
        "    u\":-\\]\": \"Happy face or smiley\",\n",
        "    u\":\\]\": \"Happy face or smiley\",\n",
        "    u\":-3\": \"Happy face smiley\",\n",
        "    u\":3\": \"Happy face smiley\",\n",
        "    u\":->\": \"Happy face smiley\",\n",
        "    u\":>\": \"Happy face smiley\",\n",
        "    u\"8-\\)\": \"Happy face smiley\",\n",
        "    u\":o\\)\": \"Happy face smiley\",\n",
        "    u\":-\\}\": \"Happy face smiley\",\n",
        "    u\":\\}\": \"Happy face smiley\",\n",
        "    u\":-\\)\": \"Happy face smiley\",\n",
        "    u\":c\\)\": \"Happy face smiley\",\n",
        "    u\":\\^\\)\": \"Happy face smiley\",\n",
        "    u\"=\\]\": \"Happy face smiley\",\n",
        "    u\"=\\)\": \"Happy face smiley\",\n",
        "    u\":‑D\": \"Laughing, big grin or laugh with glasses\",\n",
        "    u\":D\": \"Laughing, big grin or laugh with glasses\",\n",
        "    u\"8‑D\": \"Laughing, big grin or laugh with glasses\",\n",
        "    u\"8D\": \"Laughing, big grin or laugh with glasses\",\n",
        "    u\"X‑D\": \"Laughing, big grin or laugh with glasses\",\n",
        "    u\"XD\": \"Laughing, big grin or laugh with glasses\",\n",
        "    u\"=D\": \"Laughing, big grin or laugh with glasses\",\n",
        "    u\"=3\": \"Laughing, big grin or laugh with glasses\",\n",
        "    u\"B\\^D\": \"Laughing, big grin or laugh with glasses\",\n",
        "    u\":-\\)\\)\": \"Very happy\",\n",
        "    u\":‑\\(\": \"Frown, sad, andry or pouting\",\n",
        "    u\":-\\(\": \"Frown, sad, andry or pouting\",\n",
        "    u\":\\(\": \"Frown, sad, andry or pouting\",\n",
        "    u\":‑c\": \"Frown, sad, andry or pouting\",\n",
        "    u\":c\": \"Frown, sad, andry or pouting\",\n",
        "    u\":‑<\": \"Frown, sad, andry or pouting\",\n",
        "    u\":<\": \"Frown, sad, andry or pouting\",\n",
        "    u\":‑\\[\": \"Frown, sad, andry or pouting\",\n",
        "    u\":\\[\": \"Frown, sad, andry or pouting\",\n",
        "    u\":-\\|\\|\": \"Frown, sad, andry or pouting\",\n",
        "    u\">:\\[\": \"Frown, sad, andry or pouting\",\n",
        "    u\":\\{\": \"Frown, sad, andry or pouting\",\n",
        "    u\":@\": \"Frown, sad, andry or pouting\",\n",
        "    u\">:\\(\": \"Frown, sad, andry or pouting\",\n",
        "    u\":'‑\\(\": \"Crying\",\n",
        "    u\":'\\(\": \"Crying\",\n",
        "    u\":'‑\\)\": \"Tears of happiness\",\n",
        "    u\":'\\)\": \"Tears of happiness\",\n",
        "    u\"D‑':\": \"Horror\",\n",
        "    u\"D:<\": \"Disgust\",\n",
        "    u\"D:\": \"Sadness\",\n",
        "    u\"D8\": \"Great dismay\",\n",
        "    u\"D;\": \"Great dismay\",\n",
        "    u\"D=\": \"Great dismay\",\n",
        "    u\"DX\": \"Great dismay\",\n",
        "    u\":‑O\": \"Surprise\",\n",
        "    u\":O\": \"Surprise\",\n",
        "    u\":‑o\": \"Surprise\",\n",
        "    u\":o\": \"Surprise\",\n",
        "    u\":-0\": \"Shock\",\n",
        "    u\"8‑0\": \"Yawn\",\n",
        "    u\">:O\": \"Yawn\",\n",
        "    u\":-\\*\": \"Kiss\",\n",
        "    u\":\\*\": \"Kiss\",\n",
        "    u\":X\": \"Kiss\",\n",
        "    u\";‑\\)\": \"Wink or smirk\",\n",
        "    u\";\\)\": \"Wink or smirk\",\n",
        "    u\"\\*-\\)\": \"Wink or smirk\",\n",
        "    u\"\\*\\)\": \"Wink or smirk\",\n",
        "    u\";‑\\]\": \"Wink or smirk\",\n",
        "    u\";\\]\": \"Wink or smirk\",\n",
        "    u\";\\^\\)\": \"Wink or smirk\",\n",
        "    u\":‑,\": \"Wink or smirk\",\n",
        "    u\";D\": \"Wink or smirk\",\n",
        "    u\":‑P\": \"Tongue sticking out, cheeky, playful or blowing a raspberry\",\n",
        "    u\":P\": \"Tongue sticking out, cheeky, playful or blowing a raspberry\",\n",
        "    u\"X‑P\": \"Tongue sticking out, cheeky, playful or blowing a raspberry\",\n",
        "    u\"XP\": \"Tongue sticking out, cheeky, playful or blowing a raspberry\",\n",
        "    u\":‑Þ\": \"Tongue sticking out, cheeky, playful or blowing a raspberry\",\n",
        "    u\":Þ\": \"Tongue sticking out, cheeky, playful or blowing a raspberry\",\n",
        "    u\":b\": \"Tongue sticking out, cheeky, playful or blowing a raspberry\",\n",
        "    u\"d:\": \"Tongue sticking out, cheeky, playful or blowing a raspberry\",\n",
        "    u\"=p\": \"Tongue sticking out, cheeky, playful or blowing a raspberry\",\n",
        "    u\">:P\": \"Tongue sticking out, cheeky, playful or blowing a raspberry\",\n",
        "    u\":‑/\": \"Skeptical, annoyed, undecided, uneasy or hesitant\",\n",
        "    u\":/\": \"Skeptical, annoyed, undecided, uneasy or hesitant\",\n",
        "    u\":-[.]\": \"Skeptical, annoyed, undecided, uneasy or hesitant\",\n",
        "    u\">:[(\\\\\\)]\": \"Skeptical, annoyed, undecided, uneasy or hesitant\",\n",
        "    u\">:/\": \"Skeptical, annoyed, undecided, uneasy or hesitant\",\n",
        "    u\":[(\\\\\\)]\": \"Skeptical, annoyed, undecided, uneasy or hesitant\",\n",
        "    u\"=/\": \"Skeptical, annoyed, undecided, uneasy or hesitant\",\n",
        "    u\"=[(\\\\\\)]\": \"Skeptical, annoyed, undecided, uneasy or hesitant\",\n",
        "    u\":L\": \"Skeptical, annoyed, undecided, uneasy or hesitant\",\n",
        "    u\"=L\": \"Skeptical, annoyed, undecided, uneasy or hesitant\",\n",
        "    u\":S\": \"Skeptical, annoyed, undecided, uneasy or hesitant\",\n",
        "    u\":‑\\|\": \"Straight face\",\n",
        "    u\":\\|\": \"Straight face\",\n",
        "    u\":$\": \"Embarrassed or blushing\",\n",
        "    u\":‑x\": \"Sealed lips or wearing braces or tongue-tied\",\n",
        "    u\":x\": \"Sealed lips or wearing braces or tongue-tied\",\n",
        "    u\":‑#\": \"Sealed lips or wearing braces or tongue-tied\",\n",
        "    u\":#\": \"Sealed lips or wearing braces or tongue-tied\",\n",
        "    u\":‑&\": \"Sealed lips or wearing braces or tongue-tied\",\n",
        "    u\":&\": \"Sealed lips or wearing braces or tongue-tied\",\n",
        "    u\"O:‑\\)\": \"Angel, saint or innocent\",\n",
        "    u\"O:\\)\": \"Angel, saint or innocent\",\n",
        "    u\"0:‑3\": \"Angel, saint or innocent\",\n",
        "    u\"0:3\": \"Angel, saint or innocent\",\n",
        "    u\"0:‑\\)\": \"Angel, saint or innocent\",\n",
        "    u\"0:\\)\": \"Angel, saint or innocent\",\n",
        "    u\":‑b\": \"Tongue sticking out, cheeky, playful or blowing a raspberry\",\n",
        "    u\"0;\\^\\)\": \"Angel, saint or innocent\",\n",
        "    u\">:‑\\)\": \"Evil or devilish\",\n",
        "    u\">:\\)\": \"Evil or devilish\",\n",
        "    u\"\\}:‑\\)\": \"Evil or devilish\",\n",
        "    u\"\\}:\\)\": \"Evil or devilish\",\n",
        "    u\"3:‑\\)\": \"Evil or devilish\",\n",
        "    u\"3:\\)\": \"Evil or devilish\",\n",
        "    u\">;\\)\": \"Evil or devilish\",\n",
        "    u\"\\|;‑\\)\": \"Cool\",\n",
        "    u\"\\|‑O\": \"Bored\",\n",
        "    u\":‑J\": \"Tongue-in-cheek\",\n",
        "    u\"#‑\\)\": \"Party all night\",\n",
        "    u\"%‑\\)\": \"Drunk or confused\",\n",
        "    u\"%\\)\": \"Drunk or confused\",\n",
        "    u\":-###..\": \"Being sick\",\n",
        "    u\":###..\": \"Being sick\",\n",
        "    u\"<:‑\\|\": \"Dump\",\n",
        "    u\"\\(>_<\\)\": \"Troubled\",\n",
        "    u\"\\(>_<\\)>\": \"Troubled\",\n",
        "    u\"\\(';'\\)\": \"Baby\",\n",
        "    u\"\\(\\^\\^>``\": \"Nervous or Embarrassed or Troubled or Shy or Sweat drop\",\n",
        "    u\"\\(\\^_\\^;\\)\": \"Nervous or Embarrassed or Troubled or Shy or Sweat drop\",\n",
        "    u\"\\(-_-;\\)\": \"Nervous or Embarrassed or Troubled or Shy or Sweat drop\",\n",
        "    u\"\\(~_~;\\) \\(・\\.・;\\)\": \"Nervous or Embarrassed or Troubled or Shy or Sweat drop\",\n",
        "    u\"\\(-_-\\)zzz\": \"Sleeping\",\n",
        "    u\"\\(\\^_-\\)\": \"Wink\",\n",
        "    u\"\\(\\(\\+_\\+\\)\\)\": \"Confused\",\n",
        "    u\"\\(\\+o\\+\\)\": \"Confused\",\n",
        "    u\"\\(o\\|o\\)\": \"Ultraman\",\n",
        "    u\"\\^_\\^\": \"Joyful\",\n",
        "    u\"\\(\\^_\\^\\)/\": \"Joyful\",\n",
        "    u\"\\(\\^O\\^\\)／\": \"Joyful\",\n",
        "    u\"\\(\\^o\\^\\)／\": \"Joyful\",\n",
        "    u\"\\(__\\)\": \"Kowtow as a sign of respect, or dogeza for apology\",\n",
        "    u\"_\\(\\._\\.\\)_\": \"Kowtow as a sign of respect, or dogeza for apology\",\n",
        "    u\"<\\(_ _\\)>\": \"Kowtow as a sign of respect, or dogeza for apology\",\n",
        "    u\"<m\\(__\\)m>\": \"Kowtow as a sign of respect, or dogeza for apology\",\n",
        "    u\"m\\(__\\)m\": \"Kowtow as a sign of respect, or dogeza for apology\",\n",
        "    u\"m\\(_ _\\)m\": \"Kowtow as a sign of respect, or dogeza for apology\",\n",
        "    u\"\\('_'\\)\": \"Sad or Crying\",\n",
        "    u\"\\(/_;\\)\": \"Sad or Crying\",\n",
        "    u\"\\(T_T\\) \\(;_;\\)\": \"Sad or Crying\",\n",
        "    u\"\\(;_;\": \"Sad of Crying\",\n",
        "    u\"\\(;_:\\)\": \"Sad or Crying\",\n",
        "    u\"\\(;O;\\)\": \"Sad or Crying\",\n",
        "    u\"\\(:_;\\)\": \"Sad or Crying\",\n",
        "    u\"\\(ToT\\)\": \"Sad or Crying\",\n",
        "    u\";_;\": \"Sad or Crying\",\n",
        "    u\";-;\": \"Sad or Crying\",\n",
        "    u\";n;\": \"Sad or Crying\",\n",
        "    u\";;\": \"Sad or Crying\",\n",
        "    u\"Q\\.Q\": \"Sad or Crying\",\n",
        "    u\"T\\.T\": \"Sad or Crying\",\n",
        "    u\"QQ\": \"Sad or Crying\",\n",
        "    u\"Q_Q\": \"Sad or Crying\",\n",
        "    u\"\\(-\\.-\\)\": \"Shame\",\n",
        "    u\"\\(-_-\\)\": \"Shame\",\n",
        "    u\"\\(一一\\)\": \"Shame\",\n",
        "    u\"\\(；一_一\\)\": \"Shame\",\n",
        "    u\"\\(=_=\\)\": \"Tired\",\n",
        "    u\"\\(=\\^\\·\\^=\\)\": \"cat\",\n",
        "    u\"\\(=\\^\\·\\·\\^=\\)\": \"cat\",\n",
        "    u\"=_\\^= \": \"cat\",\n",
        "    u\"\\(\\.\\.\\)\": \"Looking down\",\n",
        "    u\"\\(\\._\\.\\)\": \"Looking down\",\n",
        "    u\"\\^m\\^\": \"Giggling with hand covering mouth\",\n",
        "    u\"\\(\\・\\・?\": \"Confusion\",\n",
        "    u\"\\(?_?\\)\": \"Confusion\",\n",
        "    u\">\\^_\\^<\": \"Normal Laugh\",\n",
        "    u\"<\\^!\\^>\": \"Normal Laugh\",\n",
        "    u\"\\^/\\^\": \"Normal Laugh\",\n",
        "    u\"\\（\\*\\^_\\^\\*）\": \"Normal Laugh\",\n",
        "    u\"\\(\\^<\\^\\) \\(\\^\\.\\^\\)\": \"Normal Laugh\",\n",
        "    u\"\\(^\\^\\)\": \"Normal Laugh\",\n",
        "    u\"\\(\\^\\.\\^\\)\": \"Normal Laugh\",\n",
        "    u\"\\(\\^_\\^\\.\\)\": \"Normal Laugh\",\n",
        "    u\"\\(\\^_\\^\\)\": \"Normal Laugh\",\n",
        "    u\"\\(\\^\\^\\)\": \"Normal Laugh\",\n",
        "    u\"\\(\\^J\\^\\)\": \"Normal Laugh\",\n",
        "    u\"\\(\\*\\^\\.\\^\\*\\)\": \"Normal Laugh\",\n",
        "    u\"\\(\\^—\\^\\）\": \"Normal Laugh\",\n",
        "    u\"\\(#\\^\\.\\^#\\)\": \"Normal Laugh\",\n",
        "    u\"\\（\\^—\\^\\）\": \"Waving\",\n",
        "    u\"\\(;_;\\)/~~~\": \"Waving\",\n",
        "    u\"\\(\\^\\.\\^\\)/~~~\": \"Waving\",\n",
        "    u\"\\(-_-\\)/~~~ \\($\\·\\·\\)/~~~\": \"Waving\",\n",
        "    u\"\\(T_T\\)/~~~\": \"Waving\",\n",
        "    u\"\\(ToT\\)/~~~\": \"Waving\",\n",
        "    u\"\\(\\*\\^0\\^\\*\\)\": \"Excited\",\n",
        "    u\"\\(\\*_\\*\\)\": \"Amazed\",\n",
        "    u\"\\(\\*_\\*;\": \"Amazed\",\n",
        "    u\"\\(\\+_\\+\\) \\(@_@\\)\": \"Amazed\",\n",
        "    u\"\\(\\*\\^\\^\\)v\": \"Laughing,Cheerful\",\n",
        "    u\"\\(\\^_\\^\\)v\": \"Laughing,Cheerful\",\n",
        "    u\"\\(\\(d[-_-]b\\)\\)\": \"Headphones,Listening to music\",\n",
        "    u'\\(-\"-\\)': \"Worried\",\n",
        "    u\"\\(ーー;\\)\": \"Worried\",\n",
        "    u\"\\(\\^0_0\\^\\)\": \"Eyeglasses\",\n",
        "    u\"\\(\\＾ｖ\\＾\\)\": \"Happy\",\n",
        "    u\"\\(\\＾ｕ\\＾\\)\": \"Happy\",\n",
        "    u\"\\(\\^\\)o\\(\\^\\)\": \"Happy\",\n",
        "    u\"\\(\\^O\\^\\)\": \"Happy\",\n",
        "    u\"\\(\\^o\\^\\)\": \"Happy\",\n",
        "    u\"\\)\\^o\\^\\(\": \"Happy\",\n",
        "    u\":O o_O\": \"Surprised\",\n",
        "    u\"o_0\": \"Surprised\",\n",
        "    u\"o\\.O\": \"Surpised\",\n",
        "    u\"\\(o\\.o\\)\": \"Surprised\",\n",
        "    u\"oO\": \"Surprised\",\n",
        "    u\"\\(\\*￣m￣\\)\": \"Dissatisfied\",\n",
        "    u\"\\(‘A`\\)\": \"Snubbed or Deflated\"\n",
        "}"
      ]
    },
    {
      "cell_type": "code",
      "execution_count": 44,
      "metadata": {},
      "outputs": [],
      "source": [
        "def clean_text(text):\n",
        "    \"\"\"\n",
        "    Clean Text\n",
        "    Preprocess the given text by removing noise, special characters, URLs, etc.\n",
        "\n",
        "    Args:\n",
        "        text (str): Input text to be cleaned.\n",
        "\n",
        "    Returns:\n",
        "        str: Cleaned and preprocessed text.\n",
        "    \"\"\"\n",
        "    # Convert the text to lowercase\n",
        "    text = text.lower()\n",
        "\n",
        "    # Remove HTML entities and special characters\n",
        "    text = re.sub(r'(&amp;|&lt;|&gt;|\\n|\\t)', ' ', text)\n",
        "\n",
        "    # Remove URLs\n",
        "    text = re.sub(r'https?://\\S+|www\\.\\S+', ' ', text)  # remove urls\n",
        "\n",
        "    # Remove email addresses\n",
        "    text = re.sub(r'\\S+@\\S+', ' ', text)\n",
        "\n",
        "    # Remove dates in various formats (e.g., DD-MM-YYYY, MM/DD/YY)\n",
        "    text = re.sub(r'\\d{1,2}(st|nd|rd|th)?[-./]\\d{1,2}[-./]\\d{2,4}', ' ', text)\n",
        "\n",
        "    # Remove month-day-year patterns (e.g., Jan 1st, 2022)\n",
        "    pattern = re.compile(r'(\\d{1,2})?(st|nd|rd|th)?[-./,]?\\s?(of)?\\s?([J|j]an(uary)?|[F|f]eb(ruary)?|[Mm]ar(ch)?|[Aa]pr(il)?|[Mm]ay|[Jj]un(e)?|[Jj]ul(y)?|[Aa]ug(ust)?|[Ss]ep(tember)?|[Oo]ct(ober)?|[Nn]ov(ember)?|[Dd]ec(ember)?)\\s?(\\d{1,2})?(st|nd|rd|th)?\\s?[-./,]?\\s?(\\d{2,4})?')\n",
        "    text = pattern.sub(r' ', text)\n",
        "\n",
        "    # Remove emoticons\n",
        "    emoticons_pattern = re.compile(u'(' + u'|'.join(emo for emo in EMOTICONS) + u')')\n",
        "    text = emoticons_pattern.sub(r' ', text)\n",
        "\n",
        "    # Remove mentions (@) and hashtags (#)\n",
        "    text = re.sub(r'(@\\S+|#\\S+)', ' ', text)\n",
        "\n",
        "    # Fix contractions (e.g., \"I'm\" becomes \"I am\")\n",
        "    text = contractions.fix(text)\n",
        "\n",
        "    # Remove punctuation\n",
        "    PUNCTUATIONS = string.punctuation\n",
        "    text = text.translate(str.maketrans('', '', PUNCTUATIONS))\n",
        "\n",
        "    # Remove unicode\n",
        "    text = unidecode.unidecode(text)\n",
        "\n",
        "    # Replace multiple whitespaces with a single space\n",
        "    text = re.sub(r'\\s+', ' ', text)\n",
        "\n",
        "    return text"
      ]
    },
    {
      "cell_type": "code",
      "execution_count": 45,
      "metadata": {},
      "outputs": [],
      "source": [
        "train['cleaned_text'] = train['text'].apply(lambda x: clean_text(x))"
      ]
    },
    {
      "cell_type": "code",
      "execution_count": 29,
      "metadata": {
        "colab": {
          "base_uri": "https://localhost:8080/"
        },
        "id": "ddIeWbNSIolu",
        "outputId": "001007c6-6f35-47b3-9381-07ba823eaa11"
      },
      "outputs": [
        {
          "data": {
            "text/plain": [
              "'\\n# Cleaning the text\\ntext_processor = TextPreProcessor(\\n    # terms that will be omitted\\n    omit=[\\'url\\', \\'email\\'],\\n    # terms that will be normalized\\n    normalize=[\\'percent\\', \\'money\\', \\'phone\\', \\'user\\',\\n        \\'time\\', \\'date\\', \\'number\\'],\\n    # terms that will be annotated\\n    annotate={\"hashtag\", \"allcaps\", \"elongated\", \"repeated\",\\n        \\'emphasis\\', \\'censored\\'},\\n    fix_html=True,  # fix HTML tokens\\n\\n    # corpus from which the word statistics are going to be used\\n    # for word segmentation\\n    segmenter=\"twitter\",\\n\\n    # corpus from which the word statistics are going to be used\\n    # for spell correction\\n    corrector=\"twitter\",\\n\\n    unpack_hashtags=True,  # perform word segmentation on hashtags\\n    unpack_contractions=True,  # Unpack contractions (can\\'t -> can not)\\n    spell_correct_elong=False,  # spell correction for elongated words\\n\\n    # select a tokenizer. You can use SocialTokenizer, or pass your own\\n    # the tokenizer, should take as input a string and return a list of tokens\\n    tokenizer=SocialTokenizer(lowercase=True).tokenize,\\n\\n    # list of dictionaries, for replacing tokens extracted from the text,\\n    # with other expressions. You can pass more than one dictionaries.\\n    dicts=[emoticons]\\n)\\n\\n# Cleaned Text\\ntrain[\\'processed_text\\'] = train.text.apply(lambda x: \" \".join(text_processor.pre_process_doc(x)))\\ntest[\\'processed_text\\'] = test.text.apply(lambda x: \" \".join(text_processor.pre_process_doc(x)))\\n\\nclass TextCleaner(BaseEstimator, TransformerMixin):\\n    def __init__(self, feature_name, text_processor):\\n        self.feature_name = feature_name\\n        self.text_processor = text_processor\\n    \\n    def fit(self, X, y=None):\\n        return self\\n\\n    def transform(self, X):\\n        X[\\'processed_\\' + self.feature_name] = X[self.feature_name].apply(lambda x: \\' \\'.join(self.text_processor.pre_process_doc(x)))\\n        return X[\\'processed_\\' + self.feature_name]\\n'"
            ]
          },
          "execution_count": 29,
          "metadata": {},
          "output_type": "execute_result"
        }
      ],
      "source": [
        "\"\"\"\n",
        "# Cleaning the text\n",
        "text_processor = TextPreProcessor(\n",
        "    # terms that will be omitted\n",
        "    omit=['url', 'email'],\n",
        "    # terms that will be normalized\n",
        "    normalize=['percent', 'money', 'phone', 'user',\n",
        "        'time', 'date', 'number'],\n",
        "    # terms that will be annotated\n",
        "    annotate={\"hashtag\", \"allcaps\", \"elongated\", \"repeated\",\n",
        "        'emphasis', 'censored'},\n",
        "    fix_html=True,  # fix HTML tokens\n",
        "\n",
        "    # corpus from which the word statistics are going to be used\n",
        "    # for word segmentation\n",
        "    segmenter=\"twitter\",\n",
        "\n",
        "    # corpus from which the word statistics are going to be used\n",
        "    # for spell correction\n",
        "    corrector=\"twitter\",\n",
        "\n",
        "    unpack_hashtags=True,  # perform word segmentation on hashtags\n",
        "    unpack_contractions=True,  # Unpack contractions (can't -> can not)\n",
        "    spell_correct_elong=False,  # spell correction for elongated words\n",
        "\n",
        "    # select a tokenizer. You can use SocialTokenizer, or pass your own\n",
        "    # the tokenizer, should take as input a string and return a list of tokens\n",
        "    tokenizer=SocialTokenizer(lowercase=True).tokenize,\n",
        "\n",
        "    # list of dictionaries, for replacing tokens extracted from the text,\n",
        "    # with other expressions. You can pass more than one dictionaries.\n",
        "    dicts=[emoticons]\n",
        ")\n",
        "\n",
        "# Cleaned Text\n",
        "train['processed_text'] = train.text.apply(lambda x: \" \".join(text_processor.pre_process_doc(x)))\n",
        "test['processed_text'] = test.text.apply(lambda x: \" \".join(text_processor.pre_process_doc(x)))\n",
        "\n",
        "class TextCleaner(BaseEstimator, TransformerMixin):\n",
        "    def __init__(self, feature_name, text_processor):\n",
        "        self.feature_name = feature_name\n",
        "        self.text_processor = text_processor\n",
        "    \n",
        "    def fit(self, X, y=None):\n",
        "        return self\n",
        "\n",
        "    def transform(self, X):\n",
        "        X['processed_' + self.feature_name] = X[self.feature_name].apply(lambda x: ' '.join(self.text_processor.pre_process_doc(x)))\n",
        "        return X['processed_' + self.feature_name]\n",
        "\"\"\""
      ]
    },
    {
      "cell_type": "markdown",
      "metadata": {
        "id": "Vbm_vEj0Iolu"
      },
      "source": [
        "## Converting text to vectors\n",
        "\n",
        "There are many ways to convert text to vectors. We will use the TF-IDF methods."
      ]
    },
    {
      "cell_type": "code",
      "execution_count": 46,
      "metadata": {
        "id": "FKugdHh1Iolu"
      },
      "outputs": [],
      "source": [
        "# TF-IDF Vectorizer\n",
        "tfidf = TfidfVectorizer(stop_words='english', min_df=2, max_df=0.75, ngram_range=(1,2))"
      ]
    },
    {
      "cell_type": "markdown",
      "metadata": {
        "id": "aAnWqmIUIolu"
      },
      "source": [
        "## Perform Stratified K-Fold Cross-Validation"
      ]
    },
    {
      "cell_type": "code",
      "execution_count": 47,
      "metadata": {
        "id": "Lm-iByU1Iolv"
      },
      "outputs": [],
      "source": [
        "scv = StratifiedKFold(n_splits=5, shuffle=True, random_state=42)"
      ]
    },
    {
      "cell_type": "code",
      "execution_count": 48,
      "metadata": {},
      "outputs": [],
      "source": [
        "# ('cleaner', TextCleaner('text', text_processor)),\n",
        "text_clf_pipeline = Pipeline([\n",
        "    ('vectorizer', TfidfVectorizer(stop_words='english', min_df=2, max_df=0.75, ngram_range=(1,2))),\n",
        "    ('clf', None)\n",
        "])"
      ]
    },
    {
      "cell_type": "code",
      "execution_count": 51,
      "metadata": {},
      "outputs": [
        {
          "data": {
            "text/html": [
              "<div>\n",
              "<style scoped>\n",
              "    .dataframe tbody tr th:only-of-type {\n",
              "        vertical-align: middle;\n",
              "    }\n",
              "\n",
              "    .dataframe tbody tr th {\n",
              "        vertical-align: top;\n",
              "    }\n",
              "\n",
              "    .dataframe thead th {\n",
              "        text-align: right;\n",
              "    }\n",
              "</style>\n",
              "<table border=\"1\" class=\"dataframe\">\n",
              "  <thead>\n",
              "    <tr style=\"text-align: right;\">\n",
              "      <th></th>\n",
              "      <th>id</th>\n",
              "      <th>keyword</th>\n",
              "      <th>location</th>\n",
              "      <th>text</th>\n",
              "      <th>target</th>\n",
              "      <th>cleaned_text</th>\n",
              "    </tr>\n",
              "  </thead>\n",
              "  <tbody>\n",
              "    <tr>\n",
              "      <th>0</th>\n",
              "      <td>1</td>\n",
              "      <td>NaN</td>\n",
              "      <td>NaN</td>\n",
              "      <td>Our Deeds are the Reason of this #earthquake May ALLAH Forgive us all</td>\n",
              "      <td>1</td>\n",
              "      <td>our deeds are the reason of this allah forgive us all</td>\n",
              "    </tr>\n",
              "    <tr>\n",
              "      <th>1</th>\n",
              "      <td>4</td>\n",
              "      <td>NaN</td>\n",
              "      <td>NaN</td>\n",
              "      <td>Forest fire near La Ronge Sask. Canada</td>\n",
              "      <td>1</td>\n",
              "      <td>forest fire near la ronge sask canada</td>\n",
              "    </tr>\n",
              "    <tr>\n",
              "      <th>2</th>\n",
              "      <td>5</td>\n",
              "      <td>NaN</td>\n",
              "      <td>NaN</td>\n",
              "      <td>All residents asked to 'shelter in place' are being notified by officers. No other evacuation or shelter in place orders are expected</td>\n",
              "      <td>1</td>\n",
              "      <td>all residents asked to shelter in place are being notified by officers no other evacuation or shelter in place orders are expected</td>\n",
              "    </tr>\n",
              "    <tr>\n",
              "      <th>3</th>\n",
              "      <td>6</td>\n",
              "      <td>NaN</td>\n",
              "      <td>NaN</td>\n",
              "      <td>13,000 people receive #wildfires evacuation orders in California</td>\n",
              "      <td>1</td>\n",
              "      <td>13000 people receive evacuation orders in california</td>\n",
              "    </tr>\n",
              "    <tr>\n",
              "      <th>4</th>\n",
              "      <td>7</td>\n",
              "      <td>NaN</td>\n",
              "      <td>NaN</td>\n",
              "      <td>Just got sent this photo from Ruby #Alaska as smoke from #wildfires pours into a school</td>\n",
              "      <td>1</td>\n",
              "      <td>just got sent this photo from ruby as smoke from pours into a school</td>\n",
              "    </tr>\n",
              "  </tbody>\n",
              "</table>\n",
              "</div>"
            ],
            "text/plain": [
              "   id keyword location  \\\n",
              "0   1     NaN      NaN   \n",
              "1   4     NaN      NaN   \n",
              "2   5     NaN      NaN   \n",
              "3   6     NaN      NaN   \n",
              "4   7     NaN      NaN   \n",
              "\n",
              "                                                                                                                                    text  \\\n",
              "0                                                                  Our Deeds are the Reason of this #earthquake May ALLAH Forgive us all   \n",
              "1                                                                                                 Forest fire near La Ronge Sask. Canada   \n",
              "2  All residents asked to 'shelter in place' are being notified by officers. No other evacuation or shelter in place orders are expected   \n",
              "3                                                                      13,000 people receive #wildfires evacuation orders in California    \n",
              "4                                               Just got sent this photo from Ruby #Alaska as smoke from #wildfires pours into a school    \n",
              "\n",
              "   target  \\\n",
              "0       1   \n",
              "1       1   \n",
              "2       1   \n",
              "3       1   \n",
              "4       1   \n",
              "\n",
              "                                                                                                                         cleaned_text  \n",
              "0                                                                               our deeds are the reason of this allah forgive us all  \n",
              "1                                                                                               forest fire near la ronge sask canada  \n",
              "2  all residents asked to shelter in place are being notified by officers no other evacuation or shelter in place orders are expected  \n",
              "3                                                                               13000 people receive evacuation orders in california   \n",
              "4                                                               just got sent this photo from ruby as smoke from pours into a school   "
            ]
          },
          "execution_count": 51,
          "metadata": {},
          "output_type": "execute_result"
        }
      ],
      "source": [
        "train.head()"
      ]
    },
    {
      "cell_type": "markdown",
      "metadata": {
        "id": "8190djkgIolv"
      },
      "source": [
        "## Modeling"
      ]
    },
    {
      "cell_type": "code",
      "execution_count": 52,
      "metadata": {
        "id": "OaSou2RBIolv"
      },
      "outputs": [],
      "source": [
        "# Vanilla Models\n",
        "models = {\n",
        "    'logistic_regression': LogisticRegression(),\n",
        "    'random_forest': RandomForestClassifier(),\n",
        "    'xgboost': XGBClassifier(),\n",
        "    'multinomial_nb': MultinomialNB(),\n",
        "    'svm': SVC()\n",
        "}"
      ]
    },
    {
      "cell_type": "code",
      "execution_count": 53,
      "metadata": {},
      "outputs": [
        {
          "name": "stderr",
          "output_type": "stream",
          "text": [
            "2023/08/18 22:04:05 INFO mlflow.tracking.fluent: Experiment with name 'vanilla-model-custom-clean-text' does not exist. Creating a new experiment.\n"
          ]
        },
        {
          "data": {
            "text/plain": [
              "<Experiment: artifact_location='s3://mlops-zc-ta-dev-model-registry/5', creation_time=1692396245531, experiment_id='5', last_update_time=1692396245531, lifecycle_stage='active', name='vanilla-model-custom-clean-text', tags={}>"
            ]
          },
          "execution_count": 53,
          "metadata": {},
          "output_type": "execute_result"
        }
      ],
      "source": [
        "EXPERIMENT_NAME = \"vanilla-model-custom-clean-text\"\n",
        "mlflow.set_experiment(EXPERIMENT_NAME)"
      ]
    },
    {
      "cell_type": "code",
      "execution_count": 54,
      "metadata": {
        "id": "tq-4kORnIolv",
        "outputId": "6278e1d0-dae6-4118-ce72-bea785114e26"
      },
      "outputs": [
        {
          "name": "stdout",
          "output_type": "stream",
          "text": [
            "logistic_regression F1: 0.728 +/- 0.017\n",
            "random_forest F1: 0.713 +/- 0.008\n",
            "xgboost F1: 0.673 +/- 0.017\n",
            "multinomial_nb F1: 0.713 +/- 0.017\n",
            "svm F1: 0.719 +/- 0.015\n"
          ]
        }
      ],
      "source": [
        "for model in models:\n",
        "    # Cross-validation\n",
        "    # clf = models[model]\n",
        "    with mlflow.start_run():\n",
        "        mlflow.set_tag('developer', 'sagar')\n",
        "    \n",
        "        mlflow.set_tag('model', model)\n",
        "        text_clf_pipeline.set_params(clf=models[model])\n",
        "\n",
        "        scores = cross_val_score(text_clf_pipeline, train['cleaned_text'], train.target, cv=scv, scoring='f1')\n",
        "        mlflow.log_metric('f1', scores.mean())\n",
        "        mlflow.log_metric('f1_std', scores.std())\n",
        "        \n",
        "        print(f'{model} F1: {scores.mean():.3f} +/- {scores.std():.3f}')\n",
        "\n",
        "        # mlflow.sklearn.log_model(text_clf_pipeline, 'models')"
      ]
    },
    {
      "cell_type": "markdown",
      "metadata": {
        "id": "4dAcfLjjIolv"
      },
      "source": [
        "`Logistic Regression`, `Multinomial NB`, and `SVM` model performance were similar with `Logistic Regression` performing slightly better. Let's further tune these models to see if we can improve performance.\n",
        "\n",
        "### Hyperparameter Tuning of Vanilla Models"
      ]
    },
    {
      "cell_type": "code",
      "execution_count": 55,
      "metadata": {
        "id": "ETxztDG-Iolv"
      },
      "outputs": [],
      "source": [
        "params = {\n",
        "    'logistic_regression': {\n",
        "        'clf__C': [0.001, 0.01, 0.1, 1, 10, 100],\n",
        "        'clf__penalty': ['l2', 'l1'],\n",
        "        'clf__solver': ['sag', 'liblinear']\n",
        "    },\n",
        "    'multinomial_nb': {\n",
        "        'clf__alpha': [0.001, 0.01, 0.1, 1, 10, 100]\n",
        "    },\n",
        "    'svm': {\n",
        "        'clf__C': [0.001, 0.01, 0.1, 1, 10, 100],\n",
        "        'clf__kernel': ['linear', 'poly', 'rbf', 'sigmoid'],\n",
        "        'clf__gamma': ['scale', 'auto']\n",
        "    }\n",
        "}"
      ]
    },
    {
      "cell_type": "code",
      "execution_count": 56,
      "metadata": {},
      "outputs": [
        {
          "name": "stderr",
          "output_type": "stream",
          "text": [
            "2023/08/18 22:05:56 INFO mlflow.tracking.fluent: Experiment with name 'hyperparameter-tuning-custom-cleaning-text' does not exist. Creating a new experiment.\n"
          ]
        },
        {
          "data": {
            "text/plain": [
              "<Experiment: artifact_location='s3://mlops-zc-ta-dev-model-registry/6', creation_time=1692396356354, experiment_id='6', last_update_time=1692396356354, lifecycle_stage='active', name='hyperparameter-tuning-custom-cleaning-text', tags={}>"
            ]
          },
          "execution_count": 56,
          "metadata": {},
          "output_type": "execute_result"
        }
      ],
      "source": [
        "EXPERIMENT_NAME = \"hyperparameter-tuning-custom-cleaning-text\"\n",
        "mlflow.set_experiment(EXPERIMENT_NAME)"
      ]
    },
    {
      "cell_type": "code",
      "execution_count": 57,
      "metadata": {
        "id": "ho6P8ew7Iolw",
        "outputId": "d1025ca3-82eb-46cd-918a-95fb52faf74f"
      },
      "outputs": [
        {
          "name": "stdout",
          "output_type": "stream",
          "text": [
            "Model: logistic_regression\n",
            "Best score: 0.7282459458129509\n",
            "Best params: {'clf__solver': 'liblinear', 'clf__penalty': 'l2', 'clf__C': 1}\n",
            "\n",
            "Model: multinomial_nb\n",
            "Best score: 0.7167073760230425\n",
            "Best params: {'clf__alpha': 0.1}\n",
            "\n",
            "Model: svm\n",
            "Best score: 0.7302802992549712\n",
            "Best params: {'clf__kernel': 'linear', 'clf__gamma': 'scale', 'clf__C': 1}\n",
            "\n"
          ]
        }
      ],
      "source": [
        "n_iter_search = 10\n",
        "\n",
        "for model in params:\n",
        "    with mlflow.start_run():\n",
        "        # clf = models[model]\n",
        "        mlflow.set_tag('developer', 'sagar')\n",
        "    \n",
        "        mlflow.set_tag('model', model)\n",
        "        text_clf_pipeline.set_params(clf=models[model])\n",
        "\n",
        "        random_search = RandomizedSearchCV(text_clf_pipeline, param_distributions=params[model], n_iter=n_iter_search, cv=scv, scoring='f1', random_state=42)\n",
        "        random_search.fit(train['cleaned_text'], train.target)\n",
        "\n",
        "        mlflow.log_params(random_search.best_params_)\n",
        "        # mlflow.sklearn.log_model(random_search.best_estimator_, 'models')\n",
        "\n",
        "        print('Model: {}'.format(model))\n",
        "        print('Best score: {}'.format(random_search.best_score_))\n",
        "        print('Best params: {}'.format(random_search.best_params_))\n",
        "        print('')\n"
      ]
    },
    {
      "cell_type": "markdown",
      "metadata": {},
      "source": [
        "The cross validation scores for the models are very similar. `SVM` has the highest score, but it is not significantly higher than the other models. For simplicity, speed, and better interpretability, I will use `MultiNomialNB` for the final model."
      ]
    },
    {
      "cell_type": "markdown",
      "metadata": {},
      "source": [
        "## Predict on the Test Set"
      ]
    },
    {
      "cell_type": "code",
      "execution_count": 58,
      "metadata": {},
      "outputs": [],
      "source": [
        "test['cleaned_text'] = test.text.apply(lambda x: clean_text(x))"
      ]
    },
    {
      "cell_type": "code",
      "execution_count": 59,
      "metadata": {},
      "outputs": [],
      "source": [
        "params = {\n",
        "    'solver': 'liblinear', \n",
        "    'penalty': 'l2', \n",
        "    'C': 1.0\n",
        "}\n",
        "\n",
        "pipeline = Pipeline([\n",
        "    ('vectorizer', TfidfVectorizer(stop_words='english', min_df=2, max_df=0.75, ngram_range=(1,2))),\n",
        "    ('clf', LogisticRegression(**params))\n",
        "])"
      ]
    },
    {
      "cell_type": "code",
      "execution_count": 60,
      "metadata": {},
      "outputs": [],
      "source": [
        "pipeline.fit(train.cleaned_text, train.target)\n",
        "y_pred = pipeline.predict(test.cleaned_text)"
      ]
    },
    {
      "cell_type": "code",
      "execution_count": 61,
      "metadata": {},
      "outputs": [
        {
          "data": {
            "text/plain": [
              "array([1, 0, 1, ..., 1, 1, 1])"
            ]
          },
          "execution_count": 61,
          "metadata": {},
          "output_type": "execute_result"
        }
      ],
      "source": [
        "y_pred"
      ]
    },
    {
      "cell_type": "code",
      "execution_count": 63,
      "metadata": {},
      "outputs": [
        {
          "data": {
            "text/plain": [
              "array([1, 0])"
            ]
          },
          "execution_count": 63,
          "metadata": {},
          "output_type": "execute_result"
        }
      ],
      "source": [
        "pipeline.predict(test.cleaned_text[:2])"
      ]
    },
    {
      "cell_type": "code",
      "execution_count": 64,
      "metadata": {},
      "outputs": [],
      "source": [
        "with mlflow.start_run(run_name='logistic-regression-model-0.1'):\n",
        "    mlflow.log_params(params)\n",
        "    mlflow.set_tag('developer', 'sagar')\n",
        "\n",
        "    mlflow.set_tag('model', 'LogisticRegression')\n",
        "    mlflow.set_tag('status', 'final')\n",
        "\n",
        "    mlflow.sklearn.log_model(pipeline, 'models')"
      ]
    },
    {
      "cell_type": "code",
      "execution_count": 68,
      "metadata": {},
      "outputs": [],
      "source": [
        "loaded_pipeline = mlflow.pyfunc.load_model('s3://mlops-zc-sd-dev-model-registry/6/465a65643f584504a46364b45fec831d/artifacts/models')"
      ]
    },
    {
      "cell_type": "code",
      "execution_count": 67,
      "metadata": {},
      "outputs": [
        {
          "data": {
            "text/html": [
              "<div>\n",
              "<style scoped>\n",
              "    .dataframe tbody tr th:only-of-type {\n",
              "        vertical-align: middle;\n",
              "    }\n",
              "\n",
              "    .dataframe tbody tr th {\n",
              "        vertical-align: top;\n",
              "    }\n",
              "\n",
              "    .dataframe thead th {\n",
              "        text-align: right;\n",
              "    }\n",
              "</style>\n",
              "<table border=\"1\" class=\"dataframe\">\n",
              "  <thead>\n",
              "    <tr style=\"text-align: right;\">\n",
              "      <th></th>\n",
              "      <th>id</th>\n",
              "      <th>keyword</th>\n",
              "      <th>location</th>\n",
              "      <th>text</th>\n",
              "      <th>cleaned_text</th>\n",
              "    </tr>\n",
              "  </thead>\n",
              "  <tbody>\n",
              "    <tr>\n",
              "      <th>0</th>\n",
              "      <td>0</td>\n",
              "      <td>NaN</td>\n",
              "      <td>NaN</td>\n",
              "      <td>Just happened a terrible car crash</td>\n",
              "      <td>just happened a terrible car crash</td>\n",
              "    </tr>\n",
              "    <tr>\n",
              "      <th>1</th>\n",
              "      <td>2</td>\n",
              "      <td>NaN</td>\n",
              "      <td>NaN</td>\n",
              "      <td>Heard about #earthquake is different cities, stay safe everyone.</td>\n",
              "      <td>heard about is different cities stay safe everyone</td>\n",
              "    </tr>\n",
              "    <tr>\n",
              "      <th>2</th>\n",
              "      <td>3</td>\n",
              "      <td>NaN</td>\n",
              "      <td>NaN</td>\n",
              "      <td>there is a forest fire at spot pond, geese are fleeing across the street, I cannot save them all</td>\n",
              "      <td>there is a forest fire at spot pond geese are fleeing across the street i cannot save them all</td>\n",
              "    </tr>\n",
              "    <tr>\n",
              "      <th>3</th>\n",
              "      <td>9</td>\n",
              "      <td>NaN</td>\n",
              "      <td>NaN</td>\n",
              "      <td>Apocalypse lighting. #Spokane #wildfires</td>\n",
              "      <td>apocalypse lighting</td>\n",
              "    </tr>\n",
              "    <tr>\n",
              "      <th>4</th>\n",
              "      <td>11</td>\n",
              "      <td>NaN</td>\n",
              "      <td>NaN</td>\n",
              "      <td>Typhoon Soudelor kills 28 in China and Taiwan</td>\n",
              "      <td>typhoon soudelor kills 28 in china and taiwan</td>\n",
              "    </tr>\n",
              "  </tbody>\n",
              "</table>\n",
              "</div>"
            ],
            "text/plain": [
              "   id keyword location  \\\n",
              "0   0     NaN      NaN   \n",
              "1   2     NaN      NaN   \n",
              "2   3     NaN      NaN   \n",
              "3   9     NaN      NaN   \n",
              "4  11     NaN      NaN   \n",
              "\n",
              "                                                                                               text  \\\n",
              "0                                                                Just happened a terrible car crash   \n",
              "1                                  Heard about #earthquake is different cities, stay safe everyone.   \n",
              "2  there is a forest fire at spot pond, geese are fleeing across the street, I cannot save them all   \n",
              "3                                                          Apocalypse lighting. #Spokane #wildfires   \n",
              "4                                                     Typhoon Soudelor kills 28 in China and Taiwan   \n",
              "\n",
              "                                                                                     cleaned_text  \n",
              "0                                                              just happened a terrible car crash  \n",
              "1                                              heard about is different cities stay safe everyone  \n",
              "2  there is a forest fire at spot pond geese are fleeing across the street i cannot save them all  \n",
              "3                                                                            apocalypse lighting   \n",
              "4                                                   typhoon soudelor kills 28 in china and taiwan  "
            ]
          },
          "execution_count": 67,
          "metadata": {},
          "output_type": "execute_result"
        }
      ],
      "source": [
        "test.head()"
      ]
    },
    {
      "cell_type": "code",
      "execution_count": 69,
      "metadata": {},
      "outputs": [
        {
          "data": {
            "text/plain": [
              "array([1, 0])"
            ]
          },
          "execution_count": 69,
          "metadata": {},
          "output_type": "execute_result"
        }
      ],
      "source": [
        "loaded_pipeline.predict(test.cleaned_text[:2])"
      ]
    },
    {
      "cell_type": "code",
      "execution_count": 37,
      "metadata": {},
      "outputs": [],
      "source": [
        "submission = pd.DataFrame({\n",
        "    'id': test['id'],\n",
        "    'target': y_pred\n",
        "})"
      ]
    },
    {
      "cell_type": "code",
      "execution_count": 30,
      "metadata": {},
      "outputs": [],
      "source": [
        "submission.to_csv('../data/submission.csv', index=False)"
      ]
    },
    {
      "cell_type": "code",
      "execution_count": 31,
      "metadata": {},
      "outputs": [
        {
          "name": "stdout",
          "output_type": "stream",
          "text": [
            "Warning: Your Kaggle API key is readable by other users on this system! To fix this, you can run 'chmod 600 /home/ec2-user/.kaggle/kaggle.json'\n",
            "100%|██████████████████████████████████████| 22.2k/22.2k [00:00<00:00, 34.5kB/s]\n",
            "Successfully submitted to Natural Language Processing with Disaster Tweets"
          ]
        }
      ],
      "source": [
        "!kaggle competitions submit -c nlp-getting-started -f ../data/submission.csv -m \"First submission - NB\""
      ]
    },
    {
      "cell_type": "markdown",
      "metadata": {},
      "source": [
        "Multinomial Naive Bayes Scores:\n",
        "Text Processing Technique: Ekphrasis\n",
        "- F1 Score on train set: 0.73764\n",
        "- F1 Score on test set: 0.79834\n",
        "\n",
        "Logistic Regression Scores:\n",
        "Text Processing Technique: Custom\n",
        "- F1 Score on train set: 0.72841\n",
        "- F1 Score on test set: 0.79221\n",
        "\n",
        "The model performance does not indicate overfitting. The F1 score on the test set is higher than the F1 score on the train set. The model is performing well on the test set."
      ]
    },
    {
      "cell_type": "markdown",
      "metadata": {
        "id": "4sQ6SZcLIolw"
      },
      "source": [
        "## Transformer Models (Future Scope)"
      ]
    },
    {
      "cell_type": "code",
      "execution_count": 16,
      "metadata": {
        "id": "e1NTYyBzIolw"
      },
      "outputs": [],
      "source": [
        "import torch\n",
        "\n",
        "from tqdm import tqdm\n",
        "from transformers import AdamW\n",
        "from transformers import AutoTokenizer, AutoModelForSequenceClassification\n",
        "from datasets import Dataset, DatasetDict\n",
        "from torch.utils.data import DataLoader, TensorDataset\n",
        "from torch.nn import CrossEntropyLoss"
      ]
    },
    {
      "cell_type": "code",
      "execution_count": 17,
      "metadata": {
        "colab": {
          "base_uri": "https://localhost:8080/",
          "height": 233,
          "referenced_widgets": [
            "8c9baead139a4da3b3980395d0039630",
            "97f34ee4da33482684c8c5cdb413a0a5",
            "a232dd9ed1bc4df5b483e53c1d5c906c",
            "fb877fbf3fbd4f259f744a8b80513ae2",
            "a6edd6700ce644a080cc8f5b806f22b3",
            "5ad30370f5cb4a82a075a162715f3ced",
            "1e7edfc3684841f8968ab0e682bd0753",
            "10b9b614c4124c7390fd8af6f0e139b6",
            "3aa3b3ab28e54bb9b628b4d21e03aa9e",
            "e910192cf51948e0ae838bb4ad45d585",
            "4b9a040047264056872520f3933be259",
            "a2c1dc4b0c5c4ac2bbd36d220be3b5b9",
            "f55ddd279c4945e886b4d6a2d35f885a",
            "380977705eaf455e968fee918d18b0ae",
            "491d1488dfbd4d1d8ee6ef7c0071807a",
            "b3505fc8778c47f89180f5f08487ab5f",
            "b76dad190dd140d1b1bb344d1ec415c8",
            "d37ad7244b6a42629e55d3696191d65d",
            "b3f013019dff496aa48a2069813f8c64",
            "17b3185cc475426083cb0b0e9f8f5711",
            "ee536f5175534bcbb8d2fbc11abb3272",
            "aea1e2bd3e55472c998f24ff45fd6ec2",
            "8d244f55d01f4a4fa2f4f3457e47e2d7",
            "d982ae11d6f7493ba18e1ad106a5a86a",
            "5b3389a9370949fd91262d0b1d31938f",
            "e03bfce519c640c289ff1397fe72e45f",
            "0424d2a4c3ac4f93b831a7d1fdb32b5a",
            "7063a899f5c94b4bb6eb163b92d1a90a",
            "9a6ed4afbc8842a8b469d51f122f3acb",
            "b76f11d5178c405dbb4a6caecc0258c9",
            "6089ce4ad3a147159c882e1c28a7b166",
            "b74b818946a244c98f6588a4985bc542",
            "57d5f28be4ee43c69bc2b92bb37461be",
            "61736c1cc6364e60ba3dc717fbbfebaf",
            "942d8374ba41481c93d95200bd9808e7",
            "f8e51d21a6ef47c096f42f59105f0bfe",
            "5966d1da36a8406386aa2cc8ddb87f2d",
            "7235f1b5e8d74580a5e221b9701f7c35",
            "5a6f063b0500458d900ea91db1c2becd",
            "b5e42e63a0f74f889083d5aaf64d35d0",
            "52ad997692f04d1b818988013e716d2f",
            "326be999c2cc4716a74150b38d321854",
            "f05ce5bfccd64b2694bd0efc353f1478",
            "e74504376e0d47e0ab670815b244cec5",
            "f0aab487758c44dbb62921199a9a575c",
            "265aeda13e9d4f2ab81bee6991efd474",
            "c6b4f81b0b9c41e1b50f49610fd673f2",
            "c5233b80812748aa98da1e6605816316",
            "0f0a12d14e214568971a5960f1ec4c7f",
            "ebcf663b03cc436bbad693bb3df1f885",
            "04770242ce42405694a089c95f049507",
            "283a1e057fc8462bbd05e58125c1f4e3",
            "aa22fe9d5465426dbdbe7a4e15be02c3",
            "e3d6936ae293490e899d8c8a39b15a82",
            "0d00bacf21bb4646bdf0c90951904bed"
          ]
        },
        "id": "KDkX3wfBIolw",
        "outputId": "86546e2a-803f-4510-aace-2687a50c4bef"
      },
      "outputs": [
        {
          "data": {
            "application/vnd.jupyter.widget-view+json": {
              "model_id": "8c9baead139a4da3b3980395d0039630",
              "version_major": 2,
              "version_minor": 0
            },
            "text/plain": [
              "Downloading (…)okenizer_config.json:   0%|          | 0.00/28.0 [00:00<?, ?B/s]"
            ]
          },
          "metadata": {},
          "output_type": "display_data"
        },
        {
          "data": {
            "application/vnd.jupyter.widget-view+json": {
              "model_id": "a2c1dc4b0c5c4ac2bbd36d220be3b5b9",
              "version_major": 2,
              "version_minor": 0
            },
            "text/plain": [
              "Downloading (…)lve/main/config.json:   0%|          | 0.00/570 [00:00<?, ?B/s]"
            ]
          },
          "metadata": {},
          "output_type": "display_data"
        },
        {
          "data": {
            "application/vnd.jupyter.widget-view+json": {
              "model_id": "8d244f55d01f4a4fa2f4f3457e47e2d7",
              "version_major": 2,
              "version_minor": 0
            },
            "text/plain": [
              "Downloading (…)solve/main/vocab.txt:   0%|          | 0.00/232k [00:00<?, ?B/s]"
            ]
          },
          "metadata": {},
          "output_type": "display_data"
        },
        {
          "data": {
            "application/vnd.jupyter.widget-view+json": {
              "model_id": "61736c1cc6364e60ba3dc717fbbfebaf",
              "version_major": 2,
              "version_minor": 0
            },
            "text/plain": [
              "Downloading (…)/main/tokenizer.json:   0%|          | 0.00/466k [00:00<?, ?B/s]"
            ]
          },
          "metadata": {},
          "output_type": "display_data"
        },
        {
          "data": {
            "application/vnd.jupyter.widget-view+json": {
              "model_id": "f0aab487758c44dbb62921199a9a575c",
              "version_major": 2,
              "version_minor": 0
            },
            "text/plain": [
              "Downloading model.safetensors:   0%|          | 0.00/440M [00:00<?, ?B/s]"
            ]
          },
          "metadata": {},
          "output_type": "display_data"
        },
        {
          "name": "stderr",
          "output_type": "stream",
          "text": [
            "Some weights of BertForSequenceClassification were not initialized from the model checkpoint at bert-base-uncased and are newly initialized: ['classifier.bias', 'classifier.weight']\n",
            "You should probably TRAIN this model on a down-stream task to be able to use it for predictions and inference.\n"
          ]
        }
      ],
      "source": [
        "num_classes = 2  # The number of classes in the dataset\n",
        "model_name = \"bert-base-uncased\"  # Use the appropriate BERT model name\n",
        "tokenizer = AutoTokenizer.from_pretrained(model_name)\n",
        "model = AutoModelForSequenceClassification.from_pretrained(model_name, num_labels=num_classes)"
      ]
    },
    {
      "cell_type": "code",
      "execution_count": 18,
      "metadata": {
        "id": "Rc3n0zqRIolw"
      },
      "outputs": [],
      "source": [
        "# Create a dataset from the pandas dataframe\n",
        "train_df = Dataset.from_pandas(train[['processed_text', 'target']])"
      ]
    },
    {
      "cell_type": "code",
      "execution_count": 19,
      "metadata": {
        "id": "2vdNM-zFIolw"
      },
      "outputs": [],
      "source": [
        "batch_size = 64\n",
        "\n",
        "# Tokenize input text\n",
        "encoded_data_train = tokenizer.batch_encode_plus(train_df['processed_text'], add_special_tokens=True, padding=True, truncation=True, return_tensors='pt')\n",
        "\n",
        "# Create DataLoader\n",
        "train_dataset = TensorDataset(encoded_data_train['input_ids'], encoded_data_train['attention_mask'], torch.tensor(train_df['target']))\n",
        "train_loader = DataLoader(train_dataset, batch_size=batch_size, shuffle=True)"
      ]
    },
    {
      "cell_type": "code",
      "execution_count": 22,
      "metadata": {
        "id": "W6xnCkdnIolw"
      },
      "outputs": [],
      "source": [
        "learning_rate = 2e-5\n",
        "device = torch.device(\"cuda\" if torch.cuda.is_available() else \"cpu\")\n",
        "model.to(device)\n",
        "\n",
        "optimizer = AdamW(model.parameters(), lr=learning_rate)\n",
        "loss_fn = CrossEntropyLoss()"
      ]
    },
    {
      "cell_type": "code",
      "execution_count": 24,
      "metadata": {
        "colab": {
          "base_uri": "https://localhost:8080/"
        },
        "id": "z1HC-ZjwIolw",
        "outputId": "b91005e4-24eb-4219-eadb-c6731c921f9f"
      },
      "outputs": [
        {
          "name": "stderr",
          "output_type": "stream",
          "text": []
        }
      ],
      "source": [
        "num_epochs = 3\n",
        "\n",
        "for epoch in range(num_epochs):\n",
        "    model.train()\n",
        "    progress_bar = tqdm(train_loader, desc=f'Epoch {epoch + 1}/{num_epochs}', leave=False)\n",
        "    for batch in train_loader:\n",
        "        input_ids, attention_mask, labels = batch\n",
        "        input_ids, attention_mask, labels = input_ids.to(device), attention_mask.to(device), labels.to(device)\n",
        "\n",
        "        optimizer.zero_grad()\n",
        "        outputs = model(input_ids=input_ids, attention_mask=attention_mask, labels=labels)\n",
        "        loss = outputs.loss\n",
        "        loss.backward()\n",
        "        optimizer.step()\n",
        "\n",
        "        progress_bar.set_postfix({'Loss': loss.item()}, refresh=True)\n",
        "    progress_bar.close()"
      ]
    },
    {
      "cell_type": "code",
      "execution_count": 25,
      "metadata": {
        "id": "X5UHHconIolx"
      },
      "outputs": [],
      "source": [
        "model.save_pretrained('./fine_tuned_model')"
      ]
    },
    {
      "cell_type": "code",
      "execution_count": null,
      "metadata": {
        "id": "jDdUYnbvIolx"
      },
      "outputs": [],
      "source": [
        "# Giscart\n",
        "# Validation of ML models\n",
        "# Product manager\n",
        "# Try to find things not working properly\n",
        "# giskard"
      ]
    },
    {
      "cell_type": "code",
      "execution_count": null,
      "metadata": {
        "id": "pJ10mjInIomB"
      },
      "outputs": [],
      "source": []
    }
  ],
  "metadata": {
    "accelerator": "GPU",
    "colab": {
      "gpuType": "T4",
      "provenance": []
    },
    "kernelspec": {
      "display_name": "Python 3",
      "name": "python3"
    },
    "language_info": {
      "codemirror_mode": {
        "name": "ipython",
        "version": 3
      },
      "file_extension": ".py",
      "mimetype": "text/x-python",
      "name": "python",
      "nbconvert_exporter": "python",
      "pygments_lexer": "ipython3",
      "version": "3.11.3"
    },
    "orig_nbformat": 4,
    "widgets": {
      "application/vnd.jupyter.widget-state+json": {
        "0424d2a4c3ac4f93b831a7d1fdb32b5a": {
          "model_module": "@jupyter-widgets/base",
          "model_module_version": "1.2.0",
          "model_name": "LayoutModel",
          "state": {
            "_model_module": "@jupyter-widgets/base",
            "_model_module_version": "1.2.0",
            "_model_name": "LayoutModel",
            "_view_count": null,
            "_view_module": "@jupyter-widgets/base",
            "_view_module_version": "1.2.0",
            "_view_name": "LayoutView",
            "align_content": null,
            "align_items": null,
            "align_self": null,
            "border": null,
            "bottom": null,
            "display": null,
            "flex": null,
            "flex_flow": null,
            "grid_area": null,
            "grid_auto_columns": null,
            "grid_auto_flow": null,
            "grid_auto_rows": null,
            "grid_column": null,
            "grid_gap": null,
            "grid_row": null,
            "grid_template_areas": null,
            "grid_template_columns": null,
            "grid_template_rows": null,
            "height": null,
            "justify_content": null,
            "justify_items": null,
            "left": null,
            "margin": null,
            "max_height": null,
            "max_width": null,
            "min_height": null,
            "min_width": null,
            "object_fit": null,
            "object_position": null,
            "order": null,
            "overflow": null,
            "overflow_x": null,
            "overflow_y": null,
            "padding": null,
            "right": null,
            "top": null,
            "visibility": null,
            "width": null
          }
        },
        "04770242ce42405694a089c95f049507": {
          "model_module": "@jupyter-widgets/controls",
          "model_module_version": "1.5.0",
          "model_name": "DescriptionStyleModel",
          "state": {
            "_model_module": "@jupyter-widgets/controls",
            "_model_module_version": "1.5.0",
            "_model_name": "DescriptionStyleModel",
            "_view_count": null,
            "_view_module": "@jupyter-widgets/base",
            "_view_module_version": "1.2.0",
            "_view_name": "StyleView",
            "description_width": ""
          }
        },
        "0d00bacf21bb4646bdf0c90951904bed": {
          "model_module": "@jupyter-widgets/controls",
          "model_module_version": "1.5.0",
          "model_name": "DescriptionStyleModel",
          "state": {
            "_model_module": "@jupyter-widgets/controls",
            "_model_module_version": "1.5.0",
            "_model_name": "DescriptionStyleModel",
            "_view_count": null,
            "_view_module": "@jupyter-widgets/base",
            "_view_module_version": "1.2.0",
            "_view_name": "StyleView",
            "description_width": ""
          }
        },
        "0f0a12d14e214568971a5960f1ec4c7f": {
          "model_module": "@jupyter-widgets/base",
          "model_module_version": "1.2.0",
          "model_name": "LayoutModel",
          "state": {
            "_model_module": "@jupyter-widgets/base",
            "_model_module_version": "1.2.0",
            "_model_name": "LayoutModel",
            "_view_count": null,
            "_view_module": "@jupyter-widgets/base",
            "_view_module_version": "1.2.0",
            "_view_name": "LayoutView",
            "align_content": null,
            "align_items": null,
            "align_self": null,
            "border": null,
            "bottom": null,
            "display": null,
            "flex": null,
            "flex_flow": null,
            "grid_area": null,
            "grid_auto_columns": null,
            "grid_auto_flow": null,
            "grid_auto_rows": null,
            "grid_column": null,
            "grid_gap": null,
            "grid_row": null,
            "grid_template_areas": null,
            "grid_template_columns": null,
            "grid_template_rows": null,
            "height": null,
            "justify_content": null,
            "justify_items": null,
            "left": null,
            "margin": null,
            "max_height": null,
            "max_width": null,
            "min_height": null,
            "min_width": null,
            "object_fit": null,
            "object_position": null,
            "order": null,
            "overflow": null,
            "overflow_x": null,
            "overflow_y": null,
            "padding": null,
            "right": null,
            "top": null,
            "visibility": null,
            "width": null
          }
        },
        "10b9b614c4124c7390fd8af6f0e139b6": {
          "model_module": "@jupyter-widgets/base",
          "model_module_version": "1.2.0",
          "model_name": "LayoutModel",
          "state": {
            "_model_module": "@jupyter-widgets/base",
            "_model_module_version": "1.2.0",
            "_model_name": "LayoutModel",
            "_view_count": null,
            "_view_module": "@jupyter-widgets/base",
            "_view_module_version": "1.2.0",
            "_view_name": "LayoutView",
            "align_content": null,
            "align_items": null,
            "align_self": null,
            "border": null,
            "bottom": null,
            "display": null,
            "flex": null,
            "flex_flow": null,
            "grid_area": null,
            "grid_auto_columns": null,
            "grid_auto_flow": null,
            "grid_auto_rows": null,
            "grid_column": null,
            "grid_gap": null,
            "grid_row": null,
            "grid_template_areas": null,
            "grid_template_columns": null,
            "grid_template_rows": null,
            "height": null,
            "justify_content": null,
            "justify_items": null,
            "left": null,
            "margin": null,
            "max_height": null,
            "max_width": null,
            "min_height": null,
            "min_width": null,
            "object_fit": null,
            "object_position": null,
            "order": null,
            "overflow": null,
            "overflow_x": null,
            "overflow_y": null,
            "padding": null,
            "right": null,
            "top": null,
            "visibility": null,
            "width": null
          }
        },
        "17b3185cc475426083cb0b0e9f8f5711": {
          "model_module": "@jupyter-widgets/controls",
          "model_module_version": "1.5.0",
          "model_name": "ProgressStyleModel",
          "state": {
            "_model_module": "@jupyter-widgets/controls",
            "_model_module_version": "1.5.0",
            "_model_name": "ProgressStyleModel",
            "_view_count": null,
            "_view_module": "@jupyter-widgets/base",
            "_view_module_version": "1.2.0",
            "_view_name": "StyleView",
            "bar_color": null,
            "description_width": ""
          }
        },
        "1e7edfc3684841f8968ab0e682bd0753": {
          "model_module": "@jupyter-widgets/controls",
          "model_module_version": "1.5.0",
          "model_name": "DescriptionStyleModel",
          "state": {
            "_model_module": "@jupyter-widgets/controls",
            "_model_module_version": "1.5.0",
            "_model_name": "DescriptionStyleModel",
            "_view_count": null,
            "_view_module": "@jupyter-widgets/base",
            "_view_module_version": "1.2.0",
            "_view_name": "StyleView",
            "description_width": ""
          }
        },
        "265aeda13e9d4f2ab81bee6991efd474": {
          "model_module": "@jupyter-widgets/controls",
          "model_module_version": "1.5.0",
          "model_name": "HTMLModel",
          "state": {
            "_dom_classes": [],
            "_model_module": "@jupyter-widgets/controls",
            "_model_module_version": "1.5.0",
            "_model_name": "HTMLModel",
            "_view_count": null,
            "_view_module": "@jupyter-widgets/controls",
            "_view_module_version": "1.5.0",
            "_view_name": "HTMLView",
            "description": "",
            "description_tooltip": null,
            "layout": "IPY_MODEL_ebcf663b03cc436bbad693bb3df1f885",
            "placeholder": "​",
            "style": "IPY_MODEL_04770242ce42405694a089c95f049507",
            "value": "Downloading model.safetensors: 100%"
          }
        },
        "283a1e057fc8462bbd05e58125c1f4e3": {
          "model_module": "@jupyter-widgets/base",
          "model_module_version": "1.2.0",
          "model_name": "LayoutModel",
          "state": {
            "_model_module": "@jupyter-widgets/base",
            "_model_module_version": "1.2.0",
            "_model_name": "LayoutModel",
            "_view_count": null,
            "_view_module": "@jupyter-widgets/base",
            "_view_module_version": "1.2.0",
            "_view_name": "LayoutView",
            "align_content": null,
            "align_items": null,
            "align_self": null,
            "border": null,
            "bottom": null,
            "display": null,
            "flex": null,
            "flex_flow": null,
            "grid_area": null,
            "grid_auto_columns": null,
            "grid_auto_flow": null,
            "grid_auto_rows": null,
            "grid_column": null,
            "grid_gap": null,
            "grid_row": null,
            "grid_template_areas": null,
            "grid_template_columns": null,
            "grid_template_rows": null,
            "height": null,
            "justify_content": null,
            "justify_items": null,
            "left": null,
            "margin": null,
            "max_height": null,
            "max_width": null,
            "min_height": null,
            "min_width": null,
            "object_fit": null,
            "object_position": null,
            "order": null,
            "overflow": null,
            "overflow_x": null,
            "overflow_y": null,
            "padding": null,
            "right": null,
            "top": null,
            "visibility": null,
            "width": null
          }
        },
        "326be999c2cc4716a74150b38d321854": {
          "model_module": "@jupyter-widgets/controls",
          "model_module_version": "1.5.0",
          "model_name": "ProgressStyleModel",
          "state": {
            "_model_module": "@jupyter-widgets/controls",
            "_model_module_version": "1.5.0",
            "_model_name": "ProgressStyleModel",
            "_view_count": null,
            "_view_module": "@jupyter-widgets/base",
            "_view_module_version": "1.2.0",
            "_view_name": "StyleView",
            "bar_color": null,
            "description_width": ""
          }
        },
        "380977705eaf455e968fee918d18b0ae": {
          "model_module": "@jupyter-widgets/controls",
          "model_module_version": "1.5.0",
          "model_name": "FloatProgressModel",
          "state": {
            "_dom_classes": [],
            "_model_module": "@jupyter-widgets/controls",
            "_model_module_version": "1.5.0",
            "_model_name": "FloatProgressModel",
            "_view_count": null,
            "_view_module": "@jupyter-widgets/controls",
            "_view_module_version": "1.5.0",
            "_view_name": "ProgressView",
            "bar_style": "success",
            "description": "",
            "description_tooltip": null,
            "layout": "IPY_MODEL_b3f013019dff496aa48a2069813f8c64",
            "max": 570,
            "min": 0,
            "orientation": "horizontal",
            "style": "IPY_MODEL_17b3185cc475426083cb0b0e9f8f5711",
            "value": 570
          }
        },
        "3aa3b3ab28e54bb9b628b4d21e03aa9e": {
          "model_module": "@jupyter-widgets/controls",
          "model_module_version": "1.5.0",
          "model_name": "ProgressStyleModel",
          "state": {
            "_model_module": "@jupyter-widgets/controls",
            "_model_module_version": "1.5.0",
            "_model_name": "ProgressStyleModel",
            "_view_count": null,
            "_view_module": "@jupyter-widgets/base",
            "_view_module_version": "1.2.0",
            "_view_name": "StyleView",
            "bar_color": null,
            "description_width": ""
          }
        },
        "491d1488dfbd4d1d8ee6ef7c0071807a": {
          "model_module": "@jupyter-widgets/controls",
          "model_module_version": "1.5.0",
          "model_name": "HTMLModel",
          "state": {
            "_dom_classes": [],
            "_model_module": "@jupyter-widgets/controls",
            "_model_module_version": "1.5.0",
            "_model_name": "HTMLModel",
            "_view_count": null,
            "_view_module": "@jupyter-widgets/controls",
            "_view_module_version": "1.5.0",
            "_view_name": "HTMLView",
            "description": "",
            "description_tooltip": null,
            "layout": "IPY_MODEL_ee536f5175534bcbb8d2fbc11abb3272",
            "placeholder": "​",
            "style": "IPY_MODEL_aea1e2bd3e55472c998f24ff45fd6ec2",
            "value": " 570/570 [00:00&lt;00:00, 28.3kB/s]"
          }
        },
        "4b9a040047264056872520f3933be259": {
          "model_module": "@jupyter-widgets/controls",
          "model_module_version": "1.5.0",
          "model_name": "DescriptionStyleModel",
          "state": {
            "_model_module": "@jupyter-widgets/controls",
            "_model_module_version": "1.5.0",
            "_model_name": "DescriptionStyleModel",
            "_view_count": null,
            "_view_module": "@jupyter-widgets/base",
            "_view_module_version": "1.2.0",
            "_view_name": "StyleView",
            "description_width": ""
          }
        },
        "52ad997692f04d1b818988013e716d2f": {
          "model_module": "@jupyter-widgets/base",
          "model_module_version": "1.2.0",
          "model_name": "LayoutModel",
          "state": {
            "_model_module": "@jupyter-widgets/base",
            "_model_module_version": "1.2.0",
            "_model_name": "LayoutModel",
            "_view_count": null,
            "_view_module": "@jupyter-widgets/base",
            "_view_module_version": "1.2.0",
            "_view_name": "LayoutView",
            "align_content": null,
            "align_items": null,
            "align_self": null,
            "border": null,
            "bottom": null,
            "display": null,
            "flex": null,
            "flex_flow": null,
            "grid_area": null,
            "grid_auto_columns": null,
            "grid_auto_flow": null,
            "grid_auto_rows": null,
            "grid_column": null,
            "grid_gap": null,
            "grid_row": null,
            "grid_template_areas": null,
            "grid_template_columns": null,
            "grid_template_rows": null,
            "height": null,
            "justify_content": null,
            "justify_items": null,
            "left": null,
            "margin": null,
            "max_height": null,
            "max_width": null,
            "min_height": null,
            "min_width": null,
            "object_fit": null,
            "object_position": null,
            "order": null,
            "overflow": null,
            "overflow_x": null,
            "overflow_y": null,
            "padding": null,
            "right": null,
            "top": null,
            "visibility": null,
            "width": null
          }
        },
        "57d5f28be4ee43c69bc2b92bb37461be": {
          "model_module": "@jupyter-widgets/controls",
          "model_module_version": "1.5.0",
          "model_name": "DescriptionStyleModel",
          "state": {
            "_model_module": "@jupyter-widgets/controls",
            "_model_module_version": "1.5.0",
            "_model_name": "DescriptionStyleModel",
            "_view_count": null,
            "_view_module": "@jupyter-widgets/base",
            "_view_module_version": "1.2.0",
            "_view_name": "StyleView",
            "description_width": ""
          }
        },
        "5966d1da36a8406386aa2cc8ddb87f2d": {
          "model_module": "@jupyter-widgets/controls",
          "model_module_version": "1.5.0",
          "model_name": "HTMLModel",
          "state": {
            "_dom_classes": [],
            "_model_module": "@jupyter-widgets/controls",
            "_model_module_version": "1.5.0",
            "_model_name": "HTMLModel",
            "_view_count": null,
            "_view_module": "@jupyter-widgets/controls",
            "_view_module_version": "1.5.0",
            "_view_name": "HTMLView",
            "description": "",
            "description_tooltip": null,
            "layout": "IPY_MODEL_f05ce5bfccd64b2694bd0efc353f1478",
            "placeholder": "​",
            "style": "IPY_MODEL_e74504376e0d47e0ab670815b244cec5",
            "value": " 466k/466k [00:00&lt;00:00, 10.3MB/s]"
          }
        },
        "5a6f063b0500458d900ea91db1c2becd": {
          "model_module": "@jupyter-widgets/base",
          "model_module_version": "1.2.0",
          "model_name": "LayoutModel",
          "state": {
            "_model_module": "@jupyter-widgets/base",
            "_model_module_version": "1.2.0",
            "_model_name": "LayoutModel",
            "_view_count": null,
            "_view_module": "@jupyter-widgets/base",
            "_view_module_version": "1.2.0",
            "_view_name": "LayoutView",
            "align_content": null,
            "align_items": null,
            "align_self": null,
            "border": null,
            "bottom": null,
            "display": null,
            "flex": null,
            "flex_flow": null,
            "grid_area": null,
            "grid_auto_columns": null,
            "grid_auto_flow": null,
            "grid_auto_rows": null,
            "grid_column": null,
            "grid_gap": null,
            "grid_row": null,
            "grid_template_areas": null,
            "grid_template_columns": null,
            "grid_template_rows": null,
            "height": null,
            "justify_content": null,
            "justify_items": null,
            "left": null,
            "margin": null,
            "max_height": null,
            "max_width": null,
            "min_height": null,
            "min_width": null,
            "object_fit": null,
            "object_position": null,
            "order": null,
            "overflow": null,
            "overflow_x": null,
            "overflow_y": null,
            "padding": null,
            "right": null,
            "top": null,
            "visibility": null,
            "width": null
          }
        },
        "5ad30370f5cb4a82a075a162715f3ced": {
          "model_module": "@jupyter-widgets/base",
          "model_module_version": "1.2.0",
          "model_name": "LayoutModel",
          "state": {
            "_model_module": "@jupyter-widgets/base",
            "_model_module_version": "1.2.0",
            "_model_name": "LayoutModel",
            "_view_count": null,
            "_view_module": "@jupyter-widgets/base",
            "_view_module_version": "1.2.0",
            "_view_name": "LayoutView",
            "align_content": null,
            "align_items": null,
            "align_self": null,
            "border": null,
            "bottom": null,
            "display": null,
            "flex": null,
            "flex_flow": null,
            "grid_area": null,
            "grid_auto_columns": null,
            "grid_auto_flow": null,
            "grid_auto_rows": null,
            "grid_column": null,
            "grid_gap": null,
            "grid_row": null,
            "grid_template_areas": null,
            "grid_template_columns": null,
            "grid_template_rows": null,
            "height": null,
            "justify_content": null,
            "justify_items": null,
            "left": null,
            "margin": null,
            "max_height": null,
            "max_width": null,
            "min_height": null,
            "min_width": null,
            "object_fit": null,
            "object_position": null,
            "order": null,
            "overflow": null,
            "overflow_x": null,
            "overflow_y": null,
            "padding": null,
            "right": null,
            "top": null,
            "visibility": null,
            "width": null
          }
        },
        "5b3389a9370949fd91262d0b1d31938f": {
          "model_module": "@jupyter-widgets/controls",
          "model_module_version": "1.5.0",
          "model_name": "FloatProgressModel",
          "state": {
            "_dom_classes": [],
            "_model_module": "@jupyter-widgets/controls",
            "_model_module_version": "1.5.0",
            "_model_name": "FloatProgressModel",
            "_view_count": null,
            "_view_module": "@jupyter-widgets/controls",
            "_view_module_version": "1.5.0",
            "_view_name": "ProgressView",
            "bar_style": "success",
            "description": "",
            "description_tooltip": null,
            "layout": "IPY_MODEL_b76f11d5178c405dbb4a6caecc0258c9",
            "max": 231508,
            "min": 0,
            "orientation": "horizontal",
            "style": "IPY_MODEL_6089ce4ad3a147159c882e1c28a7b166",
            "value": 231508
          }
        },
        "6089ce4ad3a147159c882e1c28a7b166": {
          "model_module": "@jupyter-widgets/controls",
          "model_module_version": "1.5.0",
          "model_name": "ProgressStyleModel",
          "state": {
            "_model_module": "@jupyter-widgets/controls",
            "_model_module_version": "1.5.0",
            "_model_name": "ProgressStyleModel",
            "_view_count": null,
            "_view_module": "@jupyter-widgets/base",
            "_view_module_version": "1.2.0",
            "_view_name": "StyleView",
            "bar_color": null,
            "description_width": ""
          }
        },
        "61736c1cc6364e60ba3dc717fbbfebaf": {
          "model_module": "@jupyter-widgets/controls",
          "model_module_version": "1.5.0",
          "model_name": "HBoxModel",
          "state": {
            "_dom_classes": [],
            "_model_module": "@jupyter-widgets/controls",
            "_model_module_version": "1.5.0",
            "_model_name": "HBoxModel",
            "_view_count": null,
            "_view_module": "@jupyter-widgets/controls",
            "_view_module_version": "1.5.0",
            "_view_name": "HBoxView",
            "box_style": "",
            "children": [
              "IPY_MODEL_942d8374ba41481c93d95200bd9808e7",
              "IPY_MODEL_f8e51d21a6ef47c096f42f59105f0bfe",
              "IPY_MODEL_5966d1da36a8406386aa2cc8ddb87f2d"
            ],
            "layout": "IPY_MODEL_7235f1b5e8d74580a5e221b9701f7c35"
          }
        },
        "7063a899f5c94b4bb6eb163b92d1a90a": {
          "model_module": "@jupyter-widgets/base",
          "model_module_version": "1.2.0",
          "model_name": "LayoutModel",
          "state": {
            "_model_module": "@jupyter-widgets/base",
            "_model_module_version": "1.2.0",
            "_model_name": "LayoutModel",
            "_view_count": null,
            "_view_module": "@jupyter-widgets/base",
            "_view_module_version": "1.2.0",
            "_view_name": "LayoutView",
            "align_content": null,
            "align_items": null,
            "align_self": null,
            "border": null,
            "bottom": null,
            "display": null,
            "flex": null,
            "flex_flow": null,
            "grid_area": null,
            "grid_auto_columns": null,
            "grid_auto_flow": null,
            "grid_auto_rows": null,
            "grid_column": null,
            "grid_gap": null,
            "grid_row": null,
            "grid_template_areas": null,
            "grid_template_columns": null,
            "grid_template_rows": null,
            "height": null,
            "justify_content": null,
            "justify_items": null,
            "left": null,
            "margin": null,
            "max_height": null,
            "max_width": null,
            "min_height": null,
            "min_width": null,
            "object_fit": null,
            "object_position": null,
            "order": null,
            "overflow": null,
            "overflow_x": null,
            "overflow_y": null,
            "padding": null,
            "right": null,
            "top": null,
            "visibility": null,
            "width": null
          }
        },
        "7235f1b5e8d74580a5e221b9701f7c35": {
          "model_module": "@jupyter-widgets/base",
          "model_module_version": "1.2.0",
          "model_name": "LayoutModel",
          "state": {
            "_model_module": "@jupyter-widgets/base",
            "_model_module_version": "1.2.0",
            "_model_name": "LayoutModel",
            "_view_count": null,
            "_view_module": "@jupyter-widgets/base",
            "_view_module_version": "1.2.0",
            "_view_name": "LayoutView",
            "align_content": null,
            "align_items": null,
            "align_self": null,
            "border": null,
            "bottom": null,
            "display": null,
            "flex": null,
            "flex_flow": null,
            "grid_area": null,
            "grid_auto_columns": null,
            "grid_auto_flow": null,
            "grid_auto_rows": null,
            "grid_column": null,
            "grid_gap": null,
            "grid_row": null,
            "grid_template_areas": null,
            "grid_template_columns": null,
            "grid_template_rows": null,
            "height": null,
            "justify_content": null,
            "justify_items": null,
            "left": null,
            "margin": null,
            "max_height": null,
            "max_width": null,
            "min_height": null,
            "min_width": null,
            "object_fit": null,
            "object_position": null,
            "order": null,
            "overflow": null,
            "overflow_x": null,
            "overflow_y": null,
            "padding": null,
            "right": null,
            "top": null,
            "visibility": null,
            "width": null
          }
        },
        "8c9baead139a4da3b3980395d0039630": {
          "model_module": "@jupyter-widgets/controls",
          "model_module_version": "1.5.0",
          "model_name": "HBoxModel",
          "state": {
            "_dom_classes": [],
            "_model_module": "@jupyter-widgets/controls",
            "_model_module_version": "1.5.0",
            "_model_name": "HBoxModel",
            "_view_count": null,
            "_view_module": "@jupyter-widgets/controls",
            "_view_module_version": "1.5.0",
            "_view_name": "HBoxView",
            "box_style": "",
            "children": [
              "IPY_MODEL_97f34ee4da33482684c8c5cdb413a0a5",
              "IPY_MODEL_a232dd9ed1bc4df5b483e53c1d5c906c",
              "IPY_MODEL_fb877fbf3fbd4f259f744a8b80513ae2"
            ],
            "layout": "IPY_MODEL_a6edd6700ce644a080cc8f5b806f22b3"
          }
        },
        "8d244f55d01f4a4fa2f4f3457e47e2d7": {
          "model_module": "@jupyter-widgets/controls",
          "model_module_version": "1.5.0",
          "model_name": "HBoxModel",
          "state": {
            "_dom_classes": [],
            "_model_module": "@jupyter-widgets/controls",
            "_model_module_version": "1.5.0",
            "_model_name": "HBoxModel",
            "_view_count": null,
            "_view_module": "@jupyter-widgets/controls",
            "_view_module_version": "1.5.0",
            "_view_name": "HBoxView",
            "box_style": "",
            "children": [
              "IPY_MODEL_d982ae11d6f7493ba18e1ad106a5a86a",
              "IPY_MODEL_5b3389a9370949fd91262d0b1d31938f",
              "IPY_MODEL_e03bfce519c640c289ff1397fe72e45f"
            ],
            "layout": "IPY_MODEL_0424d2a4c3ac4f93b831a7d1fdb32b5a"
          }
        },
        "942d8374ba41481c93d95200bd9808e7": {
          "model_module": "@jupyter-widgets/controls",
          "model_module_version": "1.5.0",
          "model_name": "HTMLModel",
          "state": {
            "_dom_classes": [],
            "_model_module": "@jupyter-widgets/controls",
            "_model_module_version": "1.5.0",
            "_model_name": "HTMLModel",
            "_view_count": null,
            "_view_module": "@jupyter-widgets/controls",
            "_view_module_version": "1.5.0",
            "_view_name": "HTMLView",
            "description": "",
            "description_tooltip": null,
            "layout": "IPY_MODEL_5a6f063b0500458d900ea91db1c2becd",
            "placeholder": "​",
            "style": "IPY_MODEL_b5e42e63a0f74f889083d5aaf64d35d0",
            "value": "Downloading (…)/main/tokenizer.json: 100%"
          }
        },
        "97f34ee4da33482684c8c5cdb413a0a5": {
          "model_module": "@jupyter-widgets/controls",
          "model_module_version": "1.5.0",
          "model_name": "HTMLModel",
          "state": {
            "_dom_classes": [],
            "_model_module": "@jupyter-widgets/controls",
            "_model_module_version": "1.5.0",
            "_model_name": "HTMLModel",
            "_view_count": null,
            "_view_module": "@jupyter-widgets/controls",
            "_view_module_version": "1.5.0",
            "_view_name": "HTMLView",
            "description": "",
            "description_tooltip": null,
            "layout": "IPY_MODEL_5ad30370f5cb4a82a075a162715f3ced",
            "placeholder": "​",
            "style": "IPY_MODEL_1e7edfc3684841f8968ab0e682bd0753",
            "value": "Downloading (…)okenizer_config.json: 100%"
          }
        },
        "9a6ed4afbc8842a8b469d51f122f3acb": {
          "model_module": "@jupyter-widgets/controls",
          "model_module_version": "1.5.0",
          "model_name": "DescriptionStyleModel",
          "state": {
            "_model_module": "@jupyter-widgets/controls",
            "_model_module_version": "1.5.0",
            "_model_name": "DescriptionStyleModel",
            "_view_count": null,
            "_view_module": "@jupyter-widgets/base",
            "_view_module_version": "1.2.0",
            "_view_name": "StyleView",
            "description_width": ""
          }
        },
        "a232dd9ed1bc4df5b483e53c1d5c906c": {
          "model_module": "@jupyter-widgets/controls",
          "model_module_version": "1.5.0",
          "model_name": "FloatProgressModel",
          "state": {
            "_dom_classes": [],
            "_model_module": "@jupyter-widgets/controls",
            "_model_module_version": "1.5.0",
            "_model_name": "FloatProgressModel",
            "_view_count": null,
            "_view_module": "@jupyter-widgets/controls",
            "_view_module_version": "1.5.0",
            "_view_name": "ProgressView",
            "bar_style": "success",
            "description": "",
            "description_tooltip": null,
            "layout": "IPY_MODEL_10b9b614c4124c7390fd8af6f0e139b6",
            "max": 28,
            "min": 0,
            "orientation": "horizontal",
            "style": "IPY_MODEL_3aa3b3ab28e54bb9b628b4d21e03aa9e",
            "value": 28
          }
        },
        "a2c1dc4b0c5c4ac2bbd36d220be3b5b9": {
          "model_module": "@jupyter-widgets/controls",
          "model_module_version": "1.5.0",
          "model_name": "HBoxModel",
          "state": {
            "_dom_classes": [],
            "_model_module": "@jupyter-widgets/controls",
            "_model_module_version": "1.5.0",
            "_model_name": "HBoxModel",
            "_view_count": null,
            "_view_module": "@jupyter-widgets/controls",
            "_view_module_version": "1.5.0",
            "_view_name": "HBoxView",
            "box_style": "",
            "children": [
              "IPY_MODEL_f55ddd279c4945e886b4d6a2d35f885a",
              "IPY_MODEL_380977705eaf455e968fee918d18b0ae",
              "IPY_MODEL_491d1488dfbd4d1d8ee6ef7c0071807a"
            ],
            "layout": "IPY_MODEL_b3505fc8778c47f89180f5f08487ab5f"
          }
        },
        "a6edd6700ce644a080cc8f5b806f22b3": {
          "model_module": "@jupyter-widgets/base",
          "model_module_version": "1.2.0",
          "model_name": "LayoutModel",
          "state": {
            "_model_module": "@jupyter-widgets/base",
            "_model_module_version": "1.2.0",
            "_model_name": "LayoutModel",
            "_view_count": null,
            "_view_module": "@jupyter-widgets/base",
            "_view_module_version": "1.2.0",
            "_view_name": "LayoutView",
            "align_content": null,
            "align_items": null,
            "align_self": null,
            "border": null,
            "bottom": null,
            "display": null,
            "flex": null,
            "flex_flow": null,
            "grid_area": null,
            "grid_auto_columns": null,
            "grid_auto_flow": null,
            "grid_auto_rows": null,
            "grid_column": null,
            "grid_gap": null,
            "grid_row": null,
            "grid_template_areas": null,
            "grid_template_columns": null,
            "grid_template_rows": null,
            "height": null,
            "justify_content": null,
            "justify_items": null,
            "left": null,
            "margin": null,
            "max_height": null,
            "max_width": null,
            "min_height": null,
            "min_width": null,
            "object_fit": null,
            "object_position": null,
            "order": null,
            "overflow": null,
            "overflow_x": null,
            "overflow_y": null,
            "padding": null,
            "right": null,
            "top": null,
            "visibility": null,
            "width": null
          }
        },
        "aa22fe9d5465426dbdbe7a4e15be02c3": {
          "model_module": "@jupyter-widgets/controls",
          "model_module_version": "1.5.0",
          "model_name": "ProgressStyleModel",
          "state": {
            "_model_module": "@jupyter-widgets/controls",
            "_model_module_version": "1.5.0",
            "_model_name": "ProgressStyleModel",
            "_view_count": null,
            "_view_module": "@jupyter-widgets/base",
            "_view_module_version": "1.2.0",
            "_view_name": "StyleView",
            "bar_color": null,
            "description_width": ""
          }
        },
        "aea1e2bd3e55472c998f24ff45fd6ec2": {
          "model_module": "@jupyter-widgets/controls",
          "model_module_version": "1.5.0",
          "model_name": "DescriptionStyleModel",
          "state": {
            "_model_module": "@jupyter-widgets/controls",
            "_model_module_version": "1.5.0",
            "_model_name": "DescriptionStyleModel",
            "_view_count": null,
            "_view_module": "@jupyter-widgets/base",
            "_view_module_version": "1.2.0",
            "_view_name": "StyleView",
            "description_width": ""
          }
        },
        "b3505fc8778c47f89180f5f08487ab5f": {
          "model_module": "@jupyter-widgets/base",
          "model_module_version": "1.2.0",
          "model_name": "LayoutModel",
          "state": {
            "_model_module": "@jupyter-widgets/base",
            "_model_module_version": "1.2.0",
            "_model_name": "LayoutModel",
            "_view_count": null,
            "_view_module": "@jupyter-widgets/base",
            "_view_module_version": "1.2.0",
            "_view_name": "LayoutView",
            "align_content": null,
            "align_items": null,
            "align_self": null,
            "border": null,
            "bottom": null,
            "display": null,
            "flex": null,
            "flex_flow": null,
            "grid_area": null,
            "grid_auto_columns": null,
            "grid_auto_flow": null,
            "grid_auto_rows": null,
            "grid_column": null,
            "grid_gap": null,
            "grid_row": null,
            "grid_template_areas": null,
            "grid_template_columns": null,
            "grid_template_rows": null,
            "height": null,
            "justify_content": null,
            "justify_items": null,
            "left": null,
            "margin": null,
            "max_height": null,
            "max_width": null,
            "min_height": null,
            "min_width": null,
            "object_fit": null,
            "object_position": null,
            "order": null,
            "overflow": null,
            "overflow_x": null,
            "overflow_y": null,
            "padding": null,
            "right": null,
            "top": null,
            "visibility": null,
            "width": null
          }
        },
        "b3f013019dff496aa48a2069813f8c64": {
          "model_module": "@jupyter-widgets/base",
          "model_module_version": "1.2.0",
          "model_name": "LayoutModel",
          "state": {
            "_model_module": "@jupyter-widgets/base",
            "_model_module_version": "1.2.0",
            "_model_name": "LayoutModel",
            "_view_count": null,
            "_view_module": "@jupyter-widgets/base",
            "_view_module_version": "1.2.0",
            "_view_name": "LayoutView",
            "align_content": null,
            "align_items": null,
            "align_self": null,
            "border": null,
            "bottom": null,
            "display": null,
            "flex": null,
            "flex_flow": null,
            "grid_area": null,
            "grid_auto_columns": null,
            "grid_auto_flow": null,
            "grid_auto_rows": null,
            "grid_column": null,
            "grid_gap": null,
            "grid_row": null,
            "grid_template_areas": null,
            "grid_template_columns": null,
            "grid_template_rows": null,
            "height": null,
            "justify_content": null,
            "justify_items": null,
            "left": null,
            "margin": null,
            "max_height": null,
            "max_width": null,
            "min_height": null,
            "min_width": null,
            "object_fit": null,
            "object_position": null,
            "order": null,
            "overflow": null,
            "overflow_x": null,
            "overflow_y": null,
            "padding": null,
            "right": null,
            "top": null,
            "visibility": null,
            "width": null
          }
        },
        "b5e42e63a0f74f889083d5aaf64d35d0": {
          "model_module": "@jupyter-widgets/controls",
          "model_module_version": "1.5.0",
          "model_name": "DescriptionStyleModel",
          "state": {
            "_model_module": "@jupyter-widgets/controls",
            "_model_module_version": "1.5.0",
            "_model_name": "DescriptionStyleModel",
            "_view_count": null,
            "_view_module": "@jupyter-widgets/base",
            "_view_module_version": "1.2.0",
            "_view_name": "StyleView",
            "description_width": ""
          }
        },
        "b74b818946a244c98f6588a4985bc542": {
          "model_module": "@jupyter-widgets/base",
          "model_module_version": "1.2.0",
          "model_name": "LayoutModel",
          "state": {
            "_model_module": "@jupyter-widgets/base",
            "_model_module_version": "1.2.0",
            "_model_name": "LayoutModel",
            "_view_count": null,
            "_view_module": "@jupyter-widgets/base",
            "_view_module_version": "1.2.0",
            "_view_name": "LayoutView",
            "align_content": null,
            "align_items": null,
            "align_self": null,
            "border": null,
            "bottom": null,
            "display": null,
            "flex": null,
            "flex_flow": null,
            "grid_area": null,
            "grid_auto_columns": null,
            "grid_auto_flow": null,
            "grid_auto_rows": null,
            "grid_column": null,
            "grid_gap": null,
            "grid_row": null,
            "grid_template_areas": null,
            "grid_template_columns": null,
            "grid_template_rows": null,
            "height": null,
            "justify_content": null,
            "justify_items": null,
            "left": null,
            "margin": null,
            "max_height": null,
            "max_width": null,
            "min_height": null,
            "min_width": null,
            "object_fit": null,
            "object_position": null,
            "order": null,
            "overflow": null,
            "overflow_x": null,
            "overflow_y": null,
            "padding": null,
            "right": null,
            "top": null,
            "visibility": null,
            "width": null
          }
        },
        "b76dad190dd140d1b1bb344d1ec415c8": {
          "model_module": "@jupyter-widgets/base",
          "model_module_version": "1.2.0",
          "model_name": "LayoutModel",
          "state": {
            "_model_module": "@jupyter-widgets/base",
            "_model_module_version": "1.2.0",
            "_model_name": "LayoutModel",
            "_view_count": null,
            "_view_module": "@jupyter-widgets/base",
            "_view_module_version": "1.2.0",
            "_view_name": "LayoutView",
            "align_content": null,
            "align_items": null,
            "align_self": null,
            "border": null,
            "bottom": null,
            "display": null,
            "flex": null,
            "flex_flow": null,
            "grid_area": null,
            "grid_auto_columns": null,
            "grid_auto_flow": null,
            "grid_auto_rows": null,
            "grid_column": null,
            "grid_gap": null,
            "grid_row": null,
            "grid_template_areas": null,
            "grid_template_columns": null,
            "grid_template_rows": null,
            "height": null,
            "justify_content": null,
            "justify_items": null,
            "left": null,
            "margin": null,
            "max_height": null,
            "max_width": null,
            "min_height": null,
            "min_width": null,
            "object_fit": null,
            "object_position": null,
            "order": null,
            "overflow": null,
            "overflow_x": null,
            "overflow_y": null,
            "padding": null,
            "right": null,
            "top": null,
            "visibility": null,
            "width": null
          }
        },
        "b76f11d5178c405dbb4a6caecc0258c9": {
          "model_module": "@jupyter-widgets/base",
          "model_module_version": "1.2.0",
          "model_name": "LayoutModel",
          "state": {
            "_model_module": "@jupyter-widgets/base",
            "_model_module_version": "1.2.0",
            "_model_name": "LayoutModel",
            "_view_count": null,
            "_view_module": "@jupyter-widgets/base",
            "_view_module_version": "1.2.0",
            "_view_name": "LayoutView",
            "align_content": null,
            "align_items": null,
            "align_self": null,
            "border": null,
            "bottom": null,
            "display": null,
            "flex": null,
            "flex_flow": null,
            "grid_area": null,
            "grid_auto_columns": null,
            "grid_auto_flow": null,
            "grid_auto_rows": null,
            "grid_column": null,
            "grid_gap": null,
            "grid_row": null,
            "grid_template_areas": null,
            "grid_template_columns": null,
            "grid_template_rows": null,
            "height": null,
            "justify_content": null,
            "justify_items": null,
            "left": null,
            "margin": null,
            "max_height": null,
            "max_width": null,
            "min_height": null,
            "min_width": null,
            "object_fit": null,
            "object_position": null,
            "order": null,
            "overflow": null,
            "overflow_x": null,
            "overflow_y": null,
            "padding": null,
            "right": null,
            "top": null,
            "visibility": null,
            "width": null
          }
        },
        "c5233b80812748aa98da1e6605816316": {
          "model_module": "@jupyter-widgets/controls",
          "model_module_version": "1.5.0",
          "model_name": "HTMLModel",
          "state": {
            "_dom_classes": [],
            "_model_module": "@jupyter-widgets/controls",
            "_model_module_version": "1.5.0",
            "_model_name": "HTMLModel",
            "_view_count": null,
            "_view_module": "@jupyter-widgets/controls",
            "_view_module_version": "1.5.0",
            "_view_name": "HTMLView",
            "description": "",
            "description_tooltip": null,
            "layout": "IPY_MODEL_e3d6936ae293490e899d8c8a39b15a82",
            "placeholder": "​",
            "style": "IPY_MODEL_0d00bacf21bb4646bdf0c90951904bed",
            "value": " 440M/440M [00:04&lt;00:00, 50.8MB/s]"
          }
        },
        "c6b4f81b0b9c41e1b50f49610fd673f2": {
          "model_module": "@jupyter-widgets/controls",
          "model_module_version": "1.5.0",
          "model_name": "FloatProgressModel",
          "state": {
            "_dom_classes": [],
            "_model_module": "@jupyter-widgets/controls",
            "_model_module_version": "1.5.0",
            "_model_name": "FloatProgressModel",
            "_view_count": null,
            "_view_module": "@jupyter-widgets/controls",
            "_view_module_version": "1.5.0",
            "_view_name": "ProgressView",
            "bar_style": "success",
            "description": "",
            "description_tooltip": null,
            "layout": "IPY_MODEL_283a1e057fc8462bbd05e58125c1f4e3",
            "max": 440449768,
            "min": 0,
            "orientation": "horizontal",
            "style": "IPY_MODEL_aa22fe9d5465426dbdbe7a4e15be02c3",
            "value": 440449768
          }
        },
        "d37ad7244b6a42629e55d3696191d65d": {
          "model_module": "@jupyter-widgets/controls",
          "model_module_version": "1.5.0",
          "model_name": "DescriptionStyleModel",
          "state": {
            "_model_module": "@jupyter-widgets/controls",
            "_model_module_version": "1.5.0",
            "_model_name": "DescriptionStyleModel",
            "_view_count": null,
            "_view_module": "@jupyter-widgets/base",
            "_view_module_version": "1.2.0",
            "_view_name": "StyleView",
            "description_width": ""
          }
        },
        "d982ae11d6f7493ba18e1ad106a5a86a": {
          "model_module": "@jupyter-widgets/controls",
          "model_module_version": "1.5.0",
          "model_name": "HTMLModel",
          "state": {
            "_dom_classes": [],
            "_model_module": "@jupyter-widgets/controls",
            "_model_module_version": "1.5.0",
            "_model_name": "HTMLModel",
            "_view_count": null,
            "_view_module": "@jupyter-widgets/controls",
            "_view_module_version": "1.5.0",
            "_view_name": "HTMLView",
            "description": "",
            "description_tooltip": null,
            "layout": "IPY_MODEL_7063a899f5c94b4bb6eb163b92d1a90a",
            "placeholder": "​",
            "style": "IPY_MODEL_9a6ed4afbc8842a8b469d51f122f3acb",
            "value": "Downloading (…)solve/main/vocab.txt: 100%"
          }
        },
        "e03bfce519c640c289ff1397fe72e45f": {
          "model_module": "@jupyter-widgets/controls",
          "model_module_version": "1.5.0",
          "model_name": "HTMLModel",
          "state": {
            "_dom_classes": [],
            "_model_module": "@jupyter-widgets/controls",
            "_model_module_version": "1.5.0",
            "_model_name": "HTMLModel",
            "_view_count": null,
            "_view_module": "@jupyter-widgets/controls",
            "_view_module_version": "1.5.0",
            "_view_name": "HTMLView",
            "description": "",
            "description_tooltip": null,
            "layout": "IPY_MODEL_b74b818946a244c98f6588a4985bc542",
            "placeholder": "​",
            "style": "IPY_MODEL_57d5f28be4ee43c69bc2b92bb37461be",
            "value": " 232k/232k [00:00&lt;00:00, 4.20MB/s]"
          }
        },
        "e3d6936ae293490e899d8c8a39b15a82": {
          "model_module": "@jupyter-widgets/base",
          "model_module_version": "1.2.0",
          "model_name": "LayoutModel",
          "state": {
            "_model_module": "@jupyter-widgets/base",
            "_model_module_version": "1.2.0",
            "_model_name": "LayoutModel",
            "_view_count": null,
            "_view_module": "@jupyter-widgets/base",
            "_view_module_version": "1.2.0",
            "_view_name": "LayoutView",
            "align_content": null,
            "align_items": null,
            "align_self": null,
            "border": null,
            "bottom": null,
            "display": null,
            "flex": null,
            "flex_flow": null,
            "grid_area": null,
            "grid_auto_columns": null,
            "grid_auto_flow": null,
            "grid_auto_rows": null,
            "grid_column": null,
            "grid_gap": null,
            "grid_row": null,
            "grid_template_areas": null,
            "grid_template_columns": null,
            "grid_template_rows": null,
            "height": null,
            "justify_content": null,
            "justify_items": null,
            "left": null,
            "margin": null,
            "max_height": null,
            "max_width": null,
            "min_height": null,
            "min_width": null,
            "object_fit": null,
            "object_position": null,
            "order": null,
            "overflow": null,
            "overflow_x": null,
            "overflow_y": null,
            "padding": null,
            "right": null,
            "top": null,
            "visibility": null,
            "width": null
          }
        },
        "e74504376e0d47e0ab670815b244cec5": {
          "model_module": "@jupyter-widgets/controls",
          "model_module_version": "1.5.0",
          "model_name": "DescriptionStyleModel",
          "state": {
            "_model_module": "@jupyter-widgets/controls",
            "_model_module_version": "1.5.0",
            "_model_name": "DescriptionStyleModel",
            "_view_count": null,
            "_view_module": "@jupyter-widgets/base",
            "_view_module_version": "1.2.0",
            "_view_name": "StyleView",
            "description_width": ""
          }
        },
        "e910192cf51948e0ae838bb4ad45d585": {
          "model_module": "@jupyter-widgets/base",
          "model_module_version": "1.2.0",
          "model_name": "LayoutModel",
          "state": {
            "_model_module": "@jupyter-widgets/base",
            "_model_module_version": "1.2.0",
            "_model_name": "LayoutModel",
            "_view_count": null,
            "_view_module": "@jupyter-widgets/base",
            "_view_module_version": "1.2.0",
            "_view_name": "LayoutView",
            "align_content": null,
            "align_items": null,
            "align_self": null,
            "border": null,
            "bottom": null,
            "display": null,
            "flex": null,
            "flex_flow": null,
            "grid_area": null,
            "grid_auto_columns": null,
            "grid_auto_flow": null,
            "grid_auto_rows": null,
            "grid_column": null,
            "grid_gap": null,
            "grid_row": null,
            "grid_template_areas": null,
            "grid_template_columns": null,
            "grid_template_rows": null,
            "height": null,
            "justify_content": null,
            "justify_items": null,
            "left": null,
            "margin": null,
            "max_height": null,
            "max_width": null,
            "min_height": null,
            "min_width": null,
            "object_fit": null,
            "object_position": null,
            "order": null,
            "overflow": null,
            "overflow_x": null,
            "overflow_y": null,
            "padding": null,
            "right": null,
            "top": null,
            "visibility": null,
            "width": null
          }
        },
        "ebcf663b03cc436bbad693bb3df1f885": {
          "model_module": "@jupyter-widgets/base",
          "model_module_version": "1.2.0",
          "model_name": "LayoutModel",
          "state": {
            "_model_module": "@jupyter-widgets/base",
            "_model_module_version": "1.2.0",
            "_model_name": "LayoutModel",
            "_view_count": null,
            "_view_module": "@jupyter-widgets/base",
            "_view_module_version": "1.2.0",
            "_view_name": "LayoutView",
            "align_content": null,
            "align_items": null,
            "align_self": null,
            "border": null,
            "bottom": null,
            "display": null,
            "flex": null,
            "flex_flow": null,
            "grid_area": null,
            "grid_auto_columns": null,
            "grid_auto_flow": null,
            "grid_auto_rows": null,
            "grid_column": null,
            "grid_gap": null,
            "grid_row": null,
            "grid_template_areas": null,
            "grid_template_columns": null,
            "grid_template_rows": null,
            "height": null,
            "justify_content": null,
            "justify_items": null,
            "left": null,
            "margin": null,
            "max_height": null,
            "max_width": null,
            "min_height": null,
            "min_width": null,
            "object_fit": null,
            "object_position": null,
            "order": null,
            "overflow": null,
            "overflow_x": null,
            "overflow_y": null,
            "padding": null,
            "right": null,
            "top": null,
            "visibility": null,
            "width": null
          }
        },
        "ee536f5175534bcbb8d2fbc11abb3272": {
          "model_module": "@jupyter-widgets/base",
          "model_module_version": "1.2.0",
          "model_name": "LayoutModel",
          "state": {
            "_model_module": "@jupyter-widgets/base",
            "_model_module_version": "1.2.0",
            "_model_name": "LayoutModel",
            "_view_count": null,
            "_view_module": "@jupyter-widgets/base",
            "_view_module_version": "1.2.0",
            "_view_name": "LayoutView",
            "align_content": null,
            "align_items": null,
            "align_self": null,
            "border": null,
            "bottom": null,
            "display": null,
            "flex": null,
            "flex_flow": null,
            "grid_area": null,
            "grid_auto_columns": null,
            "grid_auto_flow": null,
            "grid_auto_rows": null,
            "grid_column": null,
            "grid_gap": null,
            "grid_row": null,
            "grid_template_areas": null,
            "grid_template_columns": null,
            "grid_template_rows": null,
            "height": null,
            "justify_content": null,
            "justify_items": null,
            "left": null,
            "margin": null,
            "max_height": null,
            "max_width": null,
            "min_height": null,
            "min_width": null,
            "object_fit": null,
            "object_position": null,
            "order": null,
            "overflow": null,
            "overflow_x": null,
            "overflow_y": null,
            "padding": null,
            "right": null,
            "top": null,
            "visibility": null,
            "width": null
          }
        },
        "f05ce5bfccd64b2694bd0efc353f1478": {
          "model_module": "@jupyter-widgets/base",
          "model_module_version": "1.2.0",
          "model_name": "LayoutModel",
          "state": {
            "_model_module": "@jupyter-widgets/base",
            "_model_module_version": "1.2.0",
            "_model_name": "LayoutModel",
            "_view_count": null,
            "_view_module": "@jupyter-widgets/base",
            "_view_module_version": "1.2.0",
            "_view_name": "LayoutView",
            "align_content": null,
            "align_items": null,
            "align_self": null,
            "border": null,
            "bottom": null,
            "display": null,
            "flex": null,
            "flex_flow": null,
            "grid_area": null,
            "grid_auto_columns": null,
            "grid_auto_flow": null,
            "grid_auto_rows": null,
            "grid_column": null,
            "grid_gap": null,
            "grid_row": null,
            "grid_template_areas": null,
            "grid_template_columns": null,
            "grid_template_rows": null,
            "height": null,
            "justify_content": null,
            "justify_items": null,
            "left": null,
            "margin": null,
            "max_height": null,
            "max_width": null,
            "min_height": null,
            "min_width": null,
            "object_fit": null,
            "object_position": null,
            "order": null,
            "overflow": null,
            "overflow_x": null,
            "overflow_y": null,
            "padding": null,
            "right": null,
            "top": null,
            "visibility": null,
            "width": null
          }
        },
        "f0aab487758c44dbb62921199a9a575c": {
          "model_module": "@jupyter-widgets/controls",
          "model_module_version": "1.5.0",
          "model_name": "HBoxModel",
          "state": {
            "_dom_classes": [],
            "_model_module": "@jupyter-widgets/controls",
            "_model_module_version": "1.5.0",
            "_model_name": "HBoxModel",
            "_view_count": null,
            "_view_module": "@jupyter-widgets/controls",
            "_view_module_version": "1.5.0",
            "_view_name": "HBoxView",
            "box_style": "",
            "children": [
              "IPY_MODEL_265aeda13e9d4f2ab81bee6991efd474",
              "IPY_MODEL_c6b4f81b0b9c41e1b50f49610fd673f2",
              "IPY_MODEL_c5233b80812748aa98da1e6605816316"
            ],
            "layout": "IPY_MODEL_0f0a12d14e214568971a5960f1ec4c7f"
          }
        },
        "f55ddd279c4945e886b4d6a2d35f885a": {
          "model_module": "@jupyter-widgets/controls",
          "model_module_version": "1.5.0",
          "model_name": "HTMLModel",
          "state": {
            "_dom_classes": [],
            "_model_module": "@jupyter-widgets/controls",
            "_model_module_version": "1.5.0",
            "_model_name": "HTMLModel",
            "_view_count": null,
            "_view_module": "@jupyter-widgets/controls",
            "_view_module_version": "1.5.0",
            "_view_name": "HTMLView",
            "description": "",
            "description_tooltip": null,
            "layout": "IPY_MODEL_b76dad190dd140d1b1bb344d1ec415c8",
            "placeholder": "​",
            "style": "IPY_MODEL_d37ad7244b6a42629e55d3696191d65d",
            "value": "Downloading (…)lve/main/config.json: 100%"
          }
        },
        "f8e51d21a6ef47c096f42f59105f0bfe": {
          "model_module": "@jupyter-widgets/controls",
          "model_module_version": "1.5.0",
          "model_name": "FloatProgressModel",
          "state": {
            "_dom_classes": [],
            "_model_module": "@jupyter-widgets/controls",
            "_model_module_version": "1.5.0",
            "_model_name": "FloatProgressModel",
            "_view_count": null,
            "_view_module": "@jupyter-widgets/controls",
            "_view_module_version": "1.5.0",
            "_view_name": "ProgressView",
            "bar_style": "success",
            "description": "",
            "description_tooltip": null,
            "layout": "IPY_MODEL_52ad997692f04d1b818988013e716d2f",
            "max": 466062,
            "min": 0,
            "orientation": "horizontal",
            "style": "IPY_MODEL_326be999c2cc4716a74150b38d321854",
            "value": 466062
          }
        },
        "fb877fbf3fbd4f259f744a8b80513ae2": {
          "model_module": "@jupyter-widgets/controls",
          "model_module_version": "1.5.0",
          "model_name": "HTMLModel",
          "state": {
            "_dom_classes": [],
            "_model_module": "@jupyter-widgets/controls",
            "_model_module_version": "1.5.0",
            "_model_name": "HTMLModel",
            "_view_count": null,
            "_view_module": "@jupyter-widgets/controls",
            "_view_module_version": "1.5.0",
            "_view_name": "HTMLView",
            "description": "",
            "description_tooltip": null,
            "layout": "IPY_MODEL_e910192cf51948e0ae838bb4ad45d585",
            "placeholder": "​",
            "style": "IPY_MODEL_4b9a040047264056872520f3933be259",
            "value": " 28.0/28.0 [00:00&lt;00:00, 1.40kB/s]"
          }
        }
      }
    }
  },
  "nbformat": 4,
  "nbformat_minor": 0
}
